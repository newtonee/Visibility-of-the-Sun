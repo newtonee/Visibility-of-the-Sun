{
 "cells": [
  {
   "cell_type": "markdown",
   "metadata": {},
   "source": [
    "# When is the sun visible from some satellite in an atmospheric layer 20 to 80 km high?"
   ]
  },
  {
   "cell_type": "markdown",
   "metadata": {},
   "source": [
    "Display on the Earth's map the sun's rays visible to the satellite and passing in a given atmospheric layer, i.e. map segments between $\\vec{r}_{beam\\, entry}$ and $\\vec{r}_{beam\\, exit}$ \n",
    "<img src=\"vectors.png\" width=500px>\n",
    "\n",
    "Lets formulate criteries of visibility. The satellite view looks like this (all the variables in degrees):\n",
    "<img src=\"view_from_sat.png\" width=500px>\n",
    "So, the Sun is fully visible in the layer considered if \n",
    "$$r_{up} >= d - r_{sun} \\,and\\, r_{down} <= d + r_{sun} $$\n",
    "and partially if \n",
    "$$r_{up} >= d - r_{sun} \\,and\\, r_{down} <= d - r_{sun} $$\n",
    "$$r_{up} >= d + r_{sun} \\,and\\, r_{down} <= d + r_{sun} $$\n",
    "\n",
    "Final task is to obtain such a map:\n",
    "<img src=\"map.png\" width=500px>\n"
   ]
  },
  {
   "cell_type": "code",
   "execution_count": 3,
   "metadata": {},
   "outputs": [],
   "source": [
    "import warnings\n",
    "\n",
    "# calculating and data containing\n",
    "import numpy as np\n",
    "from numpy import linalg as LA\n",
    "import pandas as pd\n",
    "import swifter\n",
    "\n",
    "# time\n",
    "from datetime import timezone, timedelta, datetime\n",
    "\n",
    "# celestial bodies motion calculating\n",
    "import skyfield\n",
    "from skyfield.api import Topos, load\n",
    "from skyfield.positionlib import Geocentric\n",
    "from skyfield.nutationlib import iau2000b\n",
    "\n",
    "# plotting\n",
    "import os\n",
    "os.environ['PROJ_LIB'] = r'C:\\Users\\Egor\\AppData\\Local\\Continuum\\anaconda2\\pkgs\\proj4-4.9.2-vc10_0\\Library\\share'\n",
    "%matplotlib inline\n",
    "import matplotlib.pyplot as plt\n",
    "from mpl_toolkits.axes_grid1 import make_axes_locatable\n",
    "from mpl_toolkits.basemap import Basemap\n",
    "import matplotlib.cm as cm\n",
    "import matplotlib.tri as tri\n",
    "import seaborn as sns\n",
    "\n",
    "# multiprocessing\n",
    "# from dask import dataframe as dd\n",
    "# from multiprocessing import cpu_count, Pool\n",
    "# import multiprocessing as mp\n",
    "# from pandarallel import pandarallel\n",
    "# pandarallel.initialize()"
   ]
  },
  {
   "cell_type": "code",
   "execution_count": 4,
   "metadata": {},
   "outputs": [
    {
     "data": {
      "text/plain": [
       "'1.17'"
      ]
     },
     "execution_count": 4,
     "metadata": {},
     "output_type": "execute_result"
    }
   ],
   "source": [
    "skyfield.__version__"
   ]
  },
  {
   "cell_type": "code",
   "execution_count": 5,
   "metadata": {},
   "outputs": [],
   "source": [
    "lines_per_file = 2\n",
    "smallfile = None\n",
    "with open(\"iss_tle_archive.txt\") as bigfile:\n",
    "    for lineno, line in enumerate(bigfile):\n",
    "        if lineno % lines_per_file == 0:\n",
    "            if smallfile:\n",
    "                smallfile.close()\n",
    "            small_filename = 'small_file_{}.txt'.format(lineno + lines_per_file)\n",
    "            smallfile = open(small_filename, \"w\")\n",
    "        smallfile.write(line)\n",
    "    if smallfile:\n",
    "        smallfile.close()"
   ]
  },
  {
   "cell_type": "code",
   "execution_count": 8,
   "metadata": {},
   "outputs": [],
   "source": [
    "# files searching\n",
    "from os import listdir\n",
    "from os.path import isfile, join\n",
    "mypath = \"C:/Users/Egor/Documents/статья с искандером/one_year_tle\"\n",
    "onlyfiles = [f for f in listdir(mypath) if isfile(join(mypath, f))]"
   ]
  },
  {
   "cell_type": "code",
   "execution_count": 9,
   "metadata": {},
   "outputs": [],
   "source": [
    "# ISS TLEs dict forming\n",
    "iss_tles = {}\n",
    "for tle_filename in onlyfiles : \n",
    "    tle_filename = \"C:/Users/Egor/Documents/статья с искандером/one_year_tle/\" + tle_filename\n",
    "    satellites = load.tle(tle_filename)\n",
    "    iss_tles.update({satellites[25544].epoch.utc_datetime() : satellites[25544]})\n",
    "#     iss_tles.update({satellites[25544].epoch._utc_float() : satellites[25544]})"
   ]
  },
  {
   "cell_type": "code",
   "execution_count": 10,
   "metadata": {},
   "outputs": [],
   "source": [
    "# sorting ISS TLEs dict by its key - date\n",
    "dates = list(iss_tles.keys())\n",
    "dates.sort()\n",
    "iss_tles_unsorted = iss_tles\n",
    "iss_tles = {}\n",
    "for date in dates:\n",
    "    iss_tles.update({date : iss_tles_unsorted[date]})"
   ]
  },
  {
   "cell_type": "code",
   "execution_count": 11,
   "metadata": {},
   "outputs": [
    {
     "data": {
      "text/plain": [
       "1570668675.69"
      ]
     },
     "execution_count": 11,
     "metadata": {},
     "output_type": "execute_result"
    }
   ],
   "source": [
    "# small test if datetime keys work in a proper way\n",
    "tz = timezone(timedelta(hours=0))  # whatever your timezone offset from UTC is\n",
    "date = datetime(2019, 10, 10, 0, 51, 15, 690000, tzinfo=tz)  # timezone-aware start time\n",
    "date.timestamp()"
   ]
  },
  {
   "cell_type": "code",
   "execution_count": 12,
   "metadata": {},
   "outputs": [],
   "source": [
    "stations_url = 'http://celestrak.com/NORAD/elements/stations.txt'\n",
    "satellites = load.tle(stations_url)\n",
    "iss = satellites['ISS (ZARYA)']"
   ]
  },
  {
   "cell_type": "code",
   "execution_count": 13,
   "metadata": {},
   "outputs": [],
   "source": [
    "planets = load('de421.bsp')\n",
    "sun = planets['sun']\n",
    "earth = planets['earth']"
   ]
  },
  {
   "cell_type": "markdown",
   "metadata": {},
   "source": [
    "### Список задач для организации долгосрочного корректного рассчета орбиты с применением TLE-архива\n",
    "Что есть:\n",
    "1. есть список дат, для которых надо рассчитать движение КА. Пусть этот список называется __T__\n",
    "2. есть список ключей-дат, для которых были получены TLE. Этот список называется __kT__\n",
    "\n",
    "Что нужно сделать:\n",
    "1. сформировать расчетные мини-периоды:\n",
    "    1. начало - тик __T_j__, T_j-1 < kT_i <= __T_j__ < T_j+1\n",
    "    2. конец - тик __T_n__, T_n-1 < __T_n__ < kT_i+1 <= T_n+1\n",
    "    3. длительность периода, T_n - T_j\n",
    "2. каждому такому периоду сопоставить спутник Skyfield с TLE_date __kT_i__, соотв. левой границе периода (т.е. тику __T_j__, T_j-1 < kT_i <= __T_j__ < T_j+1)\n",
    "3. рассчитать движение спутника за этот период. Тут можно __параллелизовать__ задачу, т.к. периодов много. За раз можно считать 8 периодов, т.к. доступных потоков 8. Но тут у меня есть вопросы:\n",
    "    1. Как согласовать потоки? Длительности периодов __разные__\n",
    "    2. \n",
    "4. сложить все полученные мини-траектории для мелких участков времени в одну большую для большого временного периода\n",
    "6. ???\n",
    "7. PROFIT!!!"
   ]
  },
  {
   "cell_type": "markdown",
   "metadata": {},
   "source": [
    "Каждому временному тику можно назначить свой спутник. В таком случае даже ручное распараллеливание не пригодится - можно будет воспользоваться параллельным .apply"
   ]
  },
  {
   "cell_type": "markdown",
   "metadata": {},
   "source": [
    "All vectors are calcuted in the Geocentric Celestial Reference System (GCRS)"
   ]
  },
  {
   "cell_type": "code",
   "execution_count": 139,
   "metadata": {
    "colab": {},
    "colab_type": "code",
    "id": "yAFwZNzwQAIh"
   },
   "outputs": [],
   "source": [
    "# constants\n",
    "R_earth = 6371000 #m\n",
    "R_sun = 0#1.392E9/2 #m\n",
    "\n",
    "# visibility indexes\n",
    "visible = {'false' : 0, 'true' : 1, 'up' : 2, 'down' : 3}\n",
    "\n",
    "class image_plotter:\n",
    "    def __init__(self, sat, sun, earth, dt=10, T=[3, 0, 0, 0], h=[20, 80], start_date=[2019, 12, 20, 0, 0, 0], GMT=0,\n",
    "                sat_subpoint=False, full_sun=False):\n",
    "        self.sat = sat # EarthSatellite or {datetime : EarthSatellite}\n",
    "        self.sun = sun\n",
    "        self.earth = earth\n",
    "        self.dt = dt # time step, [seconds]\n",
    "        self.T = T # time period condsidered, [days, hours, minutes, seconds]\n",
    "        self.h = [h[0]*1E3, h[1]*1E3] # heights of atmospheric layer considered, initially in [km], from now in [m]\n",
    "        self.start_date = start_date # [year, month, day, hour, minute, second]\n",
    "        self.GMT = GMT # [hours]\n",
    "        self.sat_subpoint = sat_subpoint # Does the position of the spacecraft display during the flyby?\n",
    "        self.full_sun = full_sun # Only consider the full visibility of the sun or partial too?\n",
    "        \n",
    "        self.ts = load.timescale()\n",
    "        dates = self.get_dates()\n",
    "        self.df = pd.DataFrame({'Date':dates}) # vector of the dates to calculate positions of sat, \n",
    "                                               # sun and sun's visibility \n",
    "                 \n",
    "    def decode_start_date(self):\n",
    "        Y = self.start_date[0]\n",
    "        M = self.start_date[1]\n",
    "        D = self.start_date[2]\n",
    "        h = self.start_date[3]\n",
    "        m = self.start_date[4]\n",
    "        s = self.start_date[5]\n",
    "        return Y, M, D, h, m, s\n",
    "    \n",
    "    def decode_period(self):\n",
    "        dD = self.T[0]\n",
    "        dh = self.T[1]\n",
    "        dm = self.T[2]\n",
    "        ds = self.T[3]\n",
    "        return dD, dh, dm, ds      \n",
    "\n",
    "    def get_dates(self):\n",
    "        # start date\n",
    "        Y, M, D, h, m, s = self.decode_start_date()        \n",
    "        # period considered\n",
    "        dD, dh, dm, ds = self.decode_period()\n",
    "\n",
    "        # getting the vector of dates\n",
    "        ts = load.timescale()  # create skyfield timescale object\n",
    "        tz = timezone(timedelta(hours=self.GMT))  # whatever your timezone offset from UTC is\n",
    "        start = datetime(Y, M, D, h, m, s, tzinfo=tz)  # timezone-aware start time\n",
    "        end = start + timedelta(seconds=ds, minutes=dm, hours=dh, days=dD)  # one day's worth of times\n",
    "        delta = timedelta(seconds=self.dt)  # your interval over which you evaluate\n",
    "        dates = [start]\n",
    "        now = start\n",
    "        while now <= end:\n",
    "            now += delta\n",
    "            dates.append(now)\n",
    "        return dates\n",
    "\n",
    "    def get_sun_position(self, row): # get position of the Sun  \n",
    "        t = row[\"Date\"]\n",
    "        t = self.ts.utc(t) \n",
    "        t._nutation_angles = iau2000b(t.tt) # reducing accuracy of Sun's position determ. to improve speed\n",
    "        pos = self.earth.at(t).observe(self.sun).apparent().position.m \n",
    "        return pos\n",
    "    \n",
    "    def get_sat_position_and_subpoint(self, row): # get position of sat \n",
    "                                                  # and its current latitude, longitude and elevation\n",
    "        t = self.ts.utc(row[\"Date\"])\n",
    "        geocentric = row[\"sat\"].at(t)\n",
    "        row[\"sat_pos\"] = geocentric.position.m\n",
    "        subpoint = geocentric.subpoint()\n",
    "        row[\"sat_subpoint\"] = np.array([self.convert_angle(subpoint.latitude), \n",
    "                                        self.convert_angle(subpoint.longitude), subpoint.elevation.m])\n",
    "        return row \n",
    "    \n",
    "    def get_sat_position(self, row): # get position of sat \n",
    "        t = self.ts.utc(row[\"Date\"])\n",
    "        geocentric = row[\"sat\"].at(t) \n",
    "        pos = geocentric.position.m\n",
    "        return pos   \n",
    "\n",
    "    def get_positions(self):\n",
    "        self.df = self.df.swifter.apply(self.get_sat_for_date, axis=1)\n",
    "        if self.sat_subpoint : self.df = self.df.swifter.apply(self.get_sat_position_and_subpoint, axis=1)\n",
    "        else : self.df[\"sat_pos\"] = self.df.swifter.apply(self.get_sat_position, axis=1)\n",
    "        self.df[\"sun_pos\"] = self.df.swifter.apply(self.get_sun_position, axis=1)       \n",
    "        self.df[\"sat_to_sun\"] = self.df[\"sun_pos\"] - self.df[\"sat_pos\"] # vector between the sat and the Sun, \n",
    "                                                                        # pointing to the Sun\n",
    "        self.df = self.df.swifter.apply(self.get_WGS84_R_Earth, axis=1)\n",
    "\n",
    "    def get_nearest_datetime(self, items, pivot):\n",
    "        return min(items, key=lambda x: abs(x - pivot))\n",
    "\n",
    "    def get_sat_for_date(self, row):\n",
    "        t = row[\"Date\"]\n",
    "        t = t.to_pydatetime()\n",
    "        if type(self.sat) == dict : \n",
    "            row[\"closest TLE date\"] = self.get_nearest_datetime(self.sat.keys(), t)\n",
    "            row[\"sat\"] = self.sat[row[\"closest TLE date\"]]\n",
    "        elif type(self.sat) == skyfield.sgp4lib.EarthSatellite: \n",
    "            row[\"closest TLE date\"] = self.sat.epoch.utc_datetime()\n",
    "            row[\"sat\"] = self.sat\n",
    "        else : raise TypeError('Incorrect type of self.sat')\n",
    "        return row\n",
    "\n",
    "    def calculate_visibility(self): # compute if sun is visible for whole dataframe\n",
    "        print(\"Shape of dataframe before determining if the Sun is visible is\", self.df.shape)\n",
    "        self.df = self.df.swifter.apply(self.get_horizont_earth_radius, axis=1)\n",
    "        self.df[\"sun_vis\"] = self.df.swifter.apply(self.sun_is_visible, axis=1)\n",
    "        if self.full_sun : self.df = self.df[self.df[\"sun_vis\"]==1]\n",
    "        else : self.df = self.df[self.df[\"sun_vis\"]!=0]\n",
    "        self.df = self.df.reset_index(drop=True)\n",
    "        print(\"Shape of dataframe after determining if the Sun is visible is\", self.df.shape)\n",
    "\n",
    "    def get_horizont_earth_radius(self, row):\n",
    "        r_sat = row[\"sat_pos\"]\n",
    "        r_ss = row[\"sat_to_sun\"] \n",
    "        r_ss_norm = LA.norm(r_ss)\n",
    "        perpendicular_to_ss = r_sat - np.dot(r_ss / r_ss_norm, r_sat) * r_ss / r_ss_norm\n",
    "        point = Geocentric(position_au=perpendicular_to_ss/149597870691, t=self.ts.utc(row[\"Date\"])) # высота рассчитывается из WGS 84\n",
    "        subpoint = point.subpoint()\n",
    "        row[\"horizont_R_earth\"] = LA.norm(perpendicular_to_ss) - subpoint.elevation.m\n",
    "        return row     \n",
    "        \n",
    "    def sun_is_visible(self, row): # compute if the sun is visible for current date \n",
    "        # radius-vectors of sat and sun\n",
    "        r_sat = row[\"sat_pos\"]\n",
    "        r_sun = row[\"sun_pos\"]\n",
    "        r_ss = row[\"sat_to_sun\"] \n",
    "        # getting norms\n",
    "        r_sat = LA.norm(r_sat)\n",
    "        r_sun = LA.norm(r_sun)\n",
    "        r_ss = LA.norm(r_ss)\n",
    "        # angles of visibility\n",
    "        rho_up = np.arcsin((row[\"horizont_R_earth\"] + self.h[1]) / r_sat) # R_earth acceptable\n",
    "        rho_down = np.arcsin((row[\"horizont_R_earth\"] + self.h[0]) / r_sat) # R_earth acceptable\n",
    "        rho_sun = np.arcsin(R_sun / r_ss)\n",
    "        d = np.arccos((r_sat**2 + r_ss**2 - r_sun**2) / (2 * r_sat * r_ss))\n",
    "        # determing if sun is visible\n",
    "        if rho_up >= d + rho_sun and rho_down <= d - rho_sun : return visible[\"true\"]\n",
    "#         if rho_up >= d - rho_sun and rho_down <= d + rho_sun : return visible[\"true\"]\n",
    "        elif rho_up >= d - rho_sun and rho_down <= d - rho_sun : return visible[\"down\"]\n",
    "        elif rho_up >= d + rho_sun and rho_down <= d + rho_sun : return visible[\"up\"]\n",
    "        else : return visible[\"false\"]  \n",
    "        \n",
    "    def get_WGS84_R_Earth(self, row):\n",
    "        sat_vec = row[\"sat_pos\"]\n",
    "        lat, lon, elev = row[\"sat_subpoint\"]\n",
    "        row[\"WGS_84_R_Earth\"] = LA.norm(sat_vec) - elev\n",
    "#         row[\"WGS_84_R_Earth\"] = R_earth\n",
    "        return row      \n",
    "        \n",
    "    def get_entry_vec(self, row): # Light beam entry position \n",
    "        b1, b2, b3 = row[\"sat_to_sun\"]\n",
    "        c1, c2, c3 = row[\"sat_pos\"]\n",
    "        local_R_earth = row[\"WGS_84_R_Earth\"] # constant R_Earth unacceptable. use WGS 84\n",
    "        R = local_R_earth + self.h[1] \n",
    "        # from Mathematica\n",
    "        a1 = (-2*b1**2*c1 - 2*b1*b2*c2 - 2*b1*b3*c3 - np.sqrt((2*b1**2*c1 + 2*b1*b2*c2 + 2*b1*b3*c3)**2 - 4*(b1**2 + b2**2 + b3**2)*(b1**2*c1**2 + b1**2*c2**2 + b1**2*c3**2 - b1**2*R**2)))/(2.*(b1**2 + b2**2 + b3**2))\n",
    "        a2 = (-((b1**2*b2*c1)/(b1**2 + b2**2 + b3**2)) - (b1*b2**2*c2)/(b1**2 + b2**2 + b3**2) - (b1*b2*b3*c3)/(b1**2 + b2**2 + b3**2) - (b2*np.sqrt((2*b1**2*c1 + 2*b1*b2*c2 + 2*b1*b3*c3)**2 - 4*(b1**2 + b2**2 + b3**2)*(b1**2*c1**2 + b1**2*c2**2 + b1**2*c3**2 - b1**2*R**2)))/(2.*(b1**2 + b2**2 + b3**2)))/b1\n",
    "        a3 = (-((b1**2*b3*c1)/(b1**2 + b2**2 + b3**2)) - (b1*b2*b3*c2)/(b1**2 + b2**2 + b3**2) - (b1*b3**2*c3)/(b1**2 + b2**2 + b3**2) - (b3*np.sqrt((2*b1**2*c1 + 2*b1*b2*c2 + 2*b1*b3*c3)**2 - 4*(b1**2 + b2**2 + b3**2)*(b1**2*c1**2 + b1**2*c2**2 + b1**2*c3**2 - b1**2*R**2)))/(2.*(b1**2 + b2**2 + b3**2)))/b1\n",
    "        if np.isnan(a1) or np.isnan(a2) or np.isnan(a3) : return np.nan\n",
    "        else : return np.array([a1, a2, a3]) + row[\"sat_pos\"]\n",
    "\n",
    "    def get_exit_vec(self, row): # Light beam exit position \n",
    "        b1, b2, b3 = row[\"sat_to_sun\"]\n",
    "        c1, c2, c3 = row[\"sat_pos\"] \n",
    "        local_R_earth = row[\"WGS_84_R_Earth\"] # constant R_Earth unacceptable. use WGS 84\n",
    "        R = local_R_earth + self.h[1] \n",
    "        # from Mathematica\n",
    "        a1 = (-2*b1**2*c1 - 2*b1*b2*c2 - 2*b1*b3*c3 + np.sqrt((2*b1**2*c1 + 2*b1*b2*c2 + 2*b1*b3*c3)**2 - 4*(b1**2 + b2**2 + b3**2)*(b1**2*c1**2 + b1**2*c2**2 + b1**2*c3**2 - b1**2*R**2)))/(2.*(b1**2 + b2**2 + b3**2))\n",
    "        a2 = (-((b1**2*b2*c1)/(b1**2 + b2**2 + b3**2)) - (b1*b2**2*c2)/(b1**2 + b2**2 + b3**2) - (b1*b2*b3*c3)/(b1**2 + b2**2 + b3**2) + (b2*np.sqrt((2*b1**2*c1 + 2*b1*b2*c2 + 2*b1*b3*c3)**2 - 4*(b1**2 + b2**2 + b3**2)*(b1**2*c1**2 + b1**2*c2**2 + b1**2*c3**2 - b1**2*R**2)))/(2.*(b1**2 + b2**2 + b3**2)))/b1\n",
    "        a3 = (-((b1**2*b3*c1)/(b1**2 + b2**2 + b3**2)) - (b1*b2*b3*c2)/(b1**2 + b2**2 + b3**2) - (b1*b3**2*c3)/(b1**2 + b2**2 + b3**2) + (b3*np.sqrt((2*b1**2*c1 + 2*b1*b2*c2 + 2*b1*b3*c3)**2 - 4*(b1**2 + b2**2 + b3**2)*(b1**2*c1**2 + b1**2*c2**2 + b1**2*c3**2 - b1**2*R**2)))/(2.*(b1**2 + b2**2 + b3**2)))/b1\n",
    "        if np.isnan(a1) or np.isnan(a2) or np.isnan(a3) : return np.nan\n",
    "        else : return np.array([a1, a2, a3]) + row[\"sat_pos\"]\n",
    "        \n",
    "    def convert_angle(self, angle): # converts angle value from int(deg), int(min), int(sec) to float(deg)\n",
    "        angle = angle.dms(warn=True)\n",
    "        return angle[0] + angle[1] / 60 + angle[2] / 3600\n",
    "\n",
    "    def beam_path_points_with_subpoints(self, row):\n",
    "        num_points = row[\"num_points\"] #- 1\n",
    "        points_skyfield = []\n",
    "        points = []\n",
    "        ponts_direct_coords = []\n",
    "        for i in range(num_points):\n",
    "            point = row[\"entry_vec\"] + row[\"diff\"] * i\n",
    "            ponts_direct_coords.append(point)\n",
    "            point = Geocentric(position_au=point/149597870691, t=self.ts.utc(row[\"Date\"])) # высота рассчитывается из WGS 84\n",
    "            subpoint = point.subpoint()\n",
    "            points_skyfield.append([subpoint.latitude, subpoint.longitude, subpoint.elevation.m])\n",
    "            points.append([self.convert_angle(subpoint.latitude), self.convert_angle(subpoint.longitude), subpoint.elevation.m])\n",
    "            \n",
    "        row[\"beam_path_points_with_subpoints\"] = np.array(points_skyfield)\n",
    "        row[\"beam_path\"] = np.array(points)\n",
    "        row[\"beam_path_points_direct_coords\"] = np.array(ponts_direct_coords)\n",
    "        return row\n",
    "\n",
    "\n",
    "    def get_beam_path(self, num_points=50): # generate point lying on beam path\n",
    "        # get vectors, pointing to the entry to atm and to the exit from atm of light beam\n",
    "        self.df[\"entry_vec\"] = self.df.swifter.apply(self.get_entry_vec, axis=1)\n",
    "        self.df[\"exit_vec\"] = self.df.swifter.apply(self.get_exit_vec, axis=1)\n",
    "        self.df = self.df.dropna()\n",
    "\n",
    "        # get points forming light trajectory\n",
    "        self.df[\"diff\"] = self.df[\"exit_vec\"] - self.df[\"entry_vec\"] # оба имеют макс. высоту в h[1]. При этом на их же концах и есть наибольшая ошибка\n",
    "        self.df[\"num_points\"] = num_points\n",
    "        self.df[\"diff\"] /= self.df[\"num_points\"]\n",
    "        self.df = self.df.swifter.apply(self.beam_path_points_with_subpoints, axis=1)\n",
    "\n",
    "        # clean data\n",
    "        self.df.drop(columns=[\"diff\"])\n",
    "        self.df = self.df.reset_index(drop=True)\n",
    "        \n",
    "    def total_seconds(self, t):\n",
    "        return t.total_seconds()\n",
    "            \n",
    "    def get_flyby_info(self, plot=True, lookup=True): # get information about flyby: duration [sec], start and end date\n",
    "        self.df[\"dt\"] = self.df[\"Date\"].diff().apply(self.total_seconds)        \n",
    "        Duration = []    \n",
    "        Start = []\n",
    "        End = []      \n",
    "        for index, row in self.df.iterrows():\n",
    "#             print(row)\n",
    "            dt = row[\"dt\"]\n",
    "            date = row[\"Date\"]\n",
    "            if np.isnan(dt) : \n",
    "                Duration.append(0)  \n",
    "                Start.append(date)\n",
    "                End.append(date)\n",
    "            elif dt <= 2 * self.dt : \n",
    "                Duration[-1] += dt\n",
    "                if End[-1] < date : End[-1] = date\n",
    "            else : \n",
    "                Duration.append(0)\n",
    "                Start.append(date)\n",
    "                End.append(date)\n",
    "            \n",
    "        assert len(Duration) == len(Start) and len(Duration) == len(End), print(\"Sizes of the lists must be equal! Duration\", len(Duration), \"Start\", len(Start), \"End\", len(End))\n",
    "        flyby_info = pd.DataFrame({\"Duration\" : Duration, \"Start\" : Start, \"End\" : End})  \n",
    "        self.flyby_info = flyby_info\n",
    "        \n",
    "        if lookup : \n",
    "            flyby_info.head()\n",
    "            print(\"Shape is \", flyby_info.shape)\n",
    "            \n",
    "        if plot :\n",
    "            fig, (ax1, ax2) = plt.subplots(1, 2)\n",
    "            fig.set_size_inches(12, 6)\n",
    "            fig.suptitle('Flyby duration plots')\n",
    "            ax1.plot(flyby_info[\"Duration\"])\n",
    "            ax1.set_xlabel(\"Number of flyby\")\n",
    "            ax1.set_ylabel(\"Duration of flyby, sec\")\n",
    "\n",
    "            ax2 = sns.distplot(flyby_info[\"Duration\"])\n",
    "            ax2.set_ylabel(\"Fraction\")\n",
    "            ax2.set_xlabel(\"Duration of flyby, sec\")\n",
    "        \n",
    "        return flyby_info       \n",
    "    \n",
    "    def plot(self, terminator=False, sat_trajectory=False, save=False, projection='cyl', scatter=False): # get final map\n",
    "        # start date\n",
    "        Y, M, D, h, m, s = self.decode_start_date()        \n",
    "        # period considered\n",
    "        dD, dh, dm, ds = self.decode_period()\n",
    "        \n",
    "        # datetimes\n",
    "        tz = timezone(timedelta(hours=self.GMT))  # whatever your timezone offset from UTC is\n",
    "        date = datetime(Y, M, D, h, m, s, tzinfo=tz)  # timezone-aware start time\n",
    "        ddate = timedelta(days=dD, hours=dh, minutes=dm, seconds=ds)\n",
    "        date_mid = date + ddate / 2\n",
    "        print(\"Start date is\", date)\n",
    "        print(\"Middle date is\", date_mid)\n",
    "        print(\"Final date is\", date + ddate)    \n",
    "\n",
    "        # prepare data for plotting\n",
    "        # beam path points\n",
    "        ar = np.array(self.df[\"beam_path\"][0])\n",
    "        for i in self.df[\"beam_path\"]:\n",
    "            ar = np.concatenate((ar, i), axis=0)\n",
    "#         ar = ar[np.logical_and(ar[:,2] > self.h[0]*0.98, ar[:,2] < self.h[1]*1.02)]\n",
    "#         ar = ar[ar[:,2] < self.h[1]*1.02]\n",
    "\n",
    "        # satellite trajectory points \n",
    "        if sat_trajectory : \n",
    "            sat = np.array(self.df[\"sat_subpoint\"][0])\n",
    "            sat = sat[np.newaxis]\n",
    "            for i in self.df[\"sat_subpoint\"]:\n",
    "                i = i[np.newaxis]\n",
    "                sat = np.concatenate((sat, i), axis=0)\n",
    "            \n",
    "        # plotting\n",
    "        # map\n",
    "#         fig, ax = plt.subplots(1, 2, figsize=(20, 10))\n",
    "        fig = plt.figure(figsize=(12, 6), edgecolor='w')\n",
    "        ax = fig.add_axes([0,0,1,1])\n",
    "        mp = Basemap(projection=projection, lat_0=0, lon_0=0, ax=ax)\n",
    "\n",
    "        # relief, water and etc.\n",
    "        mp.drawcoastlines(color='gray', zorder=0)\n",
    "        mp.shadedrelief(zorder=0)\n",
    "\n",
    "        # plotting terminator\n",
    "        if terminator : \n",
    "            term_speed = 360./(24*3600)\n",
    "            total_sec = dD * 24 * 3600 + dh * 3600 + dm * 60 + ds\n",
    "            print(\"During the considered time period, the terminator shifts by\", term_speed * total_sec, \"degrees.\")\n",
    "            print(\"Position of the terminator for the middle of the period is shown.\")\n",
    "            CS=mp.nightshade(date_mid, zorder=1)\n",
    "\n",
    "        # plotting atmospheric cut \n",
    "        lons = ar[:, 1]\n",
    "        lats = ar[:, 0]\n",
    "        elev = ar[:, 2]\n",
    "        print(\"min elev of the beam =\", min(elev), \"m , max elev of the beam =\", max(elev), \"m\")\n",
    "        x, y = mp(lons, lats)\n",
    "        if scatter :lol = mp.scatter(x, y, marker=\".\", c=elev/1000, s=2) #cmap=\"plasma\",\n",
    "        else : lol = ax.tricontourf(x, y, elev/1000, levels=15)\n",
    "        divider = make_axes_locatable(ax)\n",
    "        cax = divider.append_axes(\"right\", size=\"2%\", pad=0.2)\n",
    "        cbar = fig.colorbar(lol, cax=cax)\n",
    "        cbar.set_label('Beam elevation, km', rotation=90)\n",
    "\n",
    "        # plotting sattelite trajectory\n",
    "        if sat_trajectory : \n",
    "            lats = sat[:, 0]\n",
    "            lons = sat[:, 1]\n",
    "            elev = sat[:, 2]\n",
    "            x, y = mp(lons, lats)\n",
    "            lol = mp.scatter(x, y, marker=\".\", c='red', s=4)\n",
    "\n",
    "        # saving\n",
    "        if save : \n",
    "            plt.savefig('map.png', quality=100, dpi=300, bbox_inches='tight')\n",
    "            print(\"The image has been saved.\")\n",
    "            \n",
    "        # showing\n",
    "        plt.show()\n",
    "        \n",
    "    def __call__(self, terminator=True, sat_trajectory=True, save=False, projection='cyl', scatter=True, num_points=40, plot_flyby_info=False): # operating pipeline\n",
    "        self.get_positions()\n",
    "        self.calculate_visibility()\n",
    "        self.get_flyby_info(plot=plot_flyby_info) \n",
    "        self.get_beam_path(num_points=num_points)\n",
    "        self.plot(terminator=terminator, sat_trajectory=sat_trajectory, save=save, projection=projection, scatter=scatter)      \n",
    " "
   ]
  },
  {
   "cell_type": "code",
   "execution_count": 166,
   "metadata": {
    "colab": {},
    "colab_type": "code",
    "id": "e-UvrRqtrbxt"
   },
   "outputs": [],
   "source": [
    "# ip = image_plotter(iss_tles, sun, earth, dt=30, T=[365, 0, 0, 0], h=[20, 80], start_date=[2020, 5, 16, 2, 28, 0], sat_subpoint=True, full_sun=False)\n",
    "# ip();\n",
    "ip = image_plotter(iss_tles, sun, earth, dt=30, T=[14, 0, 0, 0], h=[20, 80], start_date=[2020, 5, 15, 21, 46, 0], sat_subpoint=True, full_sun=False)\n"
   ]
  },
  {
   "cell_type": "code",
   "execution_count": 167,
   "metadata": {
    "colab": {
     "base_uri": "https://localhost:8080/",
     "height": 151,
     "referenced_widgets": [
      "17287d82c51748cd84484c6a9bf6c791",
      "a05adfe62b104067a572dbafb00cbbea",
      "5ee7546bbcde4ea4ab6ed3d4f40b6d32",
      "8b724344716e40d9b20e88df18b6844d",
      "987e0b21ffa149a19820e30fd7759988",
      "af1496a2879f45f09a7648cd27fe2a19",
      "767aee6fc0454f5aa4681115efaa782d",
      "38fb9aaf4c41407b973d27e672c3ea40",
      "c1c4bcf6687d4fc49071f88c19fac3b7",
      "e1d193763e3f471abf4ae9750b785dc5",
      "2fdbae36e10b4a58a3e24ca6e14ced1c",
      "e75eb926fef64c39a50d244e6462343a",
      "331141c416854d4a9ee1bd9ca32b5d60",
      "e2e89e120ea5421bb1d561d98459cd20",
      "4ebc61d3fce54d90acb935e331b4009b",
      "f9931bc27c29481ca212b8671063352a"
     ]
    },
    "colab_type": "code",
    "id": "Bzs6fSIrt3OM",
    "outputId": "8fffabb2-a173-41be-81cf-a96f8c1d82a1",
    "scrolled": false
   },
   "outputs": [
    {
     "name": "stderr",
     "output_type": "stream",
     "text": [
      "C:\\ProgramData\\Anaconda3\\lib\\site-packages\\tqdm\\std.py:658: FutureWarning: The Panel class is removed from pandas. Accessing it from the top-level namespace will also be removed in the next version\n",
      "  from pandas import Panel\n"
     ]
    },
    {
     "data": {
      "application/vnd.jupyter.widget-view+json": {
       "model_id": "92612804d167462c82fcda4d36fc8782",
       "version_major": 2,
       "version_minor": 0
      },
      "text/plain": [
       "HBox(children=(FloatProgress(value=0.0, description='Pandas Apply', max=40322.0, style=ProgressStyle(descripti…"
      ]
     },
     "metadata": {},
     "output_type": "display_data"
    },
    {
     "name": "stdout",
     "output_type": "stream",
     "text": [
      "\n"
     ]
    },
    {
     "data": {
      "application/vnd.jupyter.widget-view+json": {
       "model_id": "e2fedbbe787e47d9b5e5a7e9e8be7fe0",
       "version_major": 2,
       "version_minor": 0
      },
      "text/plain": [
       "HBox(children=(FloatProgress(value=0.0, description='Pandas Apply', max=40322.0, style=ProgressStyle(descripti…"
      ]
     },
     "metadata": {},
     "output_type": "display_data"
    },
    {
     "name": "stdout",
     "output_type": "stream",
     "text": [
      "\n"
     ]
    },
    {
     "data": {
      "application/vnd.jupyter.widget-view+json": {
       "model_id": "f875d93a49194e33bf36ab6dc4f1fdaf",
       "version_major": 2,
       "version_minor": 0
      },
      "text/plain": [
       "HBox(children=(FloatProgress(value=0.0, description='Pandas Apply', max=40322.0, style=ProgressStyle(descripti…"
      ]
     },
     "metadata": {},
     "output_type": "display_data"
    },
    {
     "name": "stdout",
     "output_type": "stream",
     "text": [
      "\n"
     ]
    },
    {
     "data": {
      "application/vnd.jupyter.widget-view+json": {
       "model_id": "7b50f12790dd4338b5fda8a50af1b035",
       "version_major": 2,
       "version_minor": 0
      },
      "text/plain": [
       "HBox(children=(FloatProgress(value=0.0, description='Pandas Apply', max=40322.0, style=ProgressStyle(descripti…"
      ]
     },
     "metadata": {},
     "output_type": "display_data"
    },
    {
     "name": "stdout",
     "output_type": "stream",
     "text": [
      "\n",
      "Wall time: 6min 16s\n"
     ]
    }
   ],
   "source": [
    "%%time\n",
    "# this cell operating really slow, especially when calculating long time period\n",
    "ip.get_positions()"
   ]
  },
  {
   "cell_type": "code",
   "execution_count": 168,
   "metadata": {
    "colab": {
     "base_uri": "https://localhost:8080/",
     "height": 136,
     "referenced_widgets": [
      "c02fee84799349038166df04a62426d8",
      "b1222cd594664296a29e8e45acf3bc9c",
      "eebf72e4d155478f846b2b49e33434f2",
      "89f33eed061348b8ba76144f634c1108",
      "9feae728f2784d37b733991be9f1e33c",
      "e77ee7ccf7ea4b9e90f6f359297ec877",
      "ffc8cbe196b7441091bbe0bb0a29a258",
      "00f0b51364664a39888b03e4dbe77b20"
     ]
    },
    "colab_type": "code",
    "id": "7r8qVNYgyRml",
    "outputId": "b0a86d2f-3903-490e-9e53-48b861f5e1e5",
    "scrolled": false
   },
   "outputs": [
    {
     "name": "stdout",
     "output_type": "stream",
     "text": [
      "Shape of dataframe before determining if the Sun is visible is (40322, 8)\n"
     ]
    },
    {
     "data": {
      "application/vnd.jupyter.widget-view+json": {
       "model_id": "ca15884eac264272bafd19d9a8230be7",
       "version_major": 2,
       "version_minor": 0
      },
      "text/plain": [
       "HBox(children=(FloatProgress(value=0.0, description='Pandas Apply', max=40322.0, style=ProgressStyle(descripti…"
      ]
     },
     "metadata": {},
     "output_type": "display_data"
    },
    {
     "name": "stdout",
     "output_type": "stream",
     "text": [
      "\n"
     ]
    },
    {
     "data": {
      "application/vnd.jupyter.widget-view+json": {
       "model_id": "cca42757a71a44fbb127ff9df925239a",
       "version_major": 2,
       "version_minor": 0
      },
      "text/plain": [
       "HBox(children=(FloatProgress(value=0.0, description='Pandas Apply', max=40322.0, style=ProgressStyle(descripti…"
      ]
     },
     "metadata": {},
     "output_type": "display_data"
    },
    {
     "name": "stdout",
     "output_type": "stream",
     "text": [
      "\n",
      "Shape of dataframe after determining if the Sun is visible is (1293, 10)\n",
      "Wall time: 1min 24s\n"
     ]
    }
   ],
   "source": [
    "%%time\n",
    "ip.calculate_visibility()"
   ]
  },
  {
   "cell_type": "code",
   "execution_count": 169,
   "metadata": {
    "scrolled": false
   },
   "outputs": [
    {
     "name": "stdout",
     "output_type": "stream",
     "text": [
      "Shape is  (391, 3)\n"
     ]
    },
    {
     "data": {
      "text/html": [
       "<div>\n",
       "<style scoped>\n",
       "    .dataframe tbody tr th:only-of-type {\n",
       "        vertical-align: middle;\n",
       "    }\n",
       "\n",
       "    .dataframe tbody tr th {\n",
       "        vertical-align: top;\n",
       "    }\n",
       "\n",
       "    .dataframe thead th {\n",
       "        text-align: right;\n",
       "    }\n",
       "</style>\n",
       "<table border=\"1\" class=\"dataframe\">\n",
       "  <thead>\n",
       "    <tr style=\"text-align: right;\">\n",
       "      <th></th>\n",
       "      <th>Duration</th>\n",
       "      <th>Start</th>\n",
       "      <th>End</th>\n",
       "    </tr>\n",
       "  </thead>\n",
       "  <tbody>\n",
       "    <tr>\n",
       "      <th>0</th>\n",
       "      <td>600.0</td>\n",
       "      <td>2020-05-15 21:50:30+00:00</td>\n",
       "      <td>2020-05-15 22:00:30+00:00</td>\n",
       "    </tr>\n",
       "    <tr>\n",
       "      <th>1</th>\n",
       "      <td>600.0</td>\n",
       "      <td>2020-05-15 23:23:30+00:00</td>\n",
       "      <td>2020-05-15 23:33:30+00:00</td>\n",
       "    </tr>\n",
       "    <tr>\n",
       "      <th>2</th>\n",
       "      <td>570.0</td>\n",
       "      <td>2020-05-16 00:57:00+00:00</td>\n",
       "      <td>2020-05-16 01:06:30+00:00</td>\n",
       "    </tr>\n",
       "    <tr>\n",
       "      <th>3</th>\n",
       "      <td>540.0</td>\n",
       "      <td>2020-05-16 02:30:30+00:00</td>\n",
       "      <td>2020-05-16 02:39:30+00:00</td>\n",
       "    </tr>\n",
       "    <tr>\n",
       "      <th>4</th>\n",
       "      <td>540.0</td>\n",
       "      <td>2020-05-16 04:03:30+00:00</td>\n",
       "      <td>2020-05-16 04:12:30+00:00</td>\n",
       "    </tr>\n",
       "    <tr>\n",
       "      <th>...</th>\n",
       "      <td>...</td>\n",
       "      <td>...</td>\n",
       "      <td>...</td>\n",
       "    </tr>\n",
       "    <tr>\n",
       "      <th>386</th>\n",
       "      <td>0.0</td>\n",
       "      <td>2020-05-29 17:23:30+00:00</td>\n",
       "      <td>2020-05-29 17:23:30+00:00</td>\n",
       "    </tr>\n",
       "    <tr>\n",
       "      <th>387</th>\n",
       "      <td>0.0</td>\n",
       "      <td>2020-05-29 17:59:00+00:00</td>\n",
       "      <td>2020-05-29 17:59:00+00:00</td>\n",
       "    </tr>\n",
       "    <tr>\n",
       "      <th>388</th>\n",
       "      <td>0.0</td>\n",
       "      <td>2020-05-29 19:32:00+00:00</td>\n",
       "      <td>2020-05-29 19:32:00+00:00</td>\n",
       "    </tr>\n",
       "    <tr>\n",
       "      <th>389</th>\n",
       "      <td>0.0</td>\n",
       "      <td>2020-05-29 20:29:00+00:00</td>\n",
       "      <td>2020-05-29 20:29:00+00:00</td>\n",
       "    </tr>\n",
       "    <tr>\n",
       "      <th>390</th>\n",
       "      <td>0.0</td>\n",
       "      <td>2020-05-29 21:05:00+00:00</td>\n",
       "      <td>2020-05-29 21:05:00+00:00</td>\n",
       "    </tr>\n",
       "  </tbody>\n",
       "</table>\n",
       "<p>391 rows × 3 columns</p>\n",
       "</div>"
      ],
      "text/plain": [
       "     Duration                     Start                       End\n",
       "0       600.0 2020-05-15 21:50:30+00:00 2020-05-15 22:00:30+00:00\n",
       "1       600.0 2020-05-15 23:23:30+00:00 2020-05-15 23:33:30+00:00\n",
       "2       570.0 2020-05-16 00:57:00+00:00 2020-05-16 01:06:30+00:00\n",
       "3       540.0 2020-05-16 02:30:30+00:00 2020-05-16 02:39:30+00:00\n",
       "4       540.0 2020-05-16 04:03:30+00:00 2020-05-16 04:12:30+00:00\n",
       "..        ...                       ...                       ...\n",
       "386       0.0 2020-05-29 17:23:30+00:00 2020-05-29 17:23:30+00:00\n",
       "387       0.0 2020-05-29 17:59:00+00:00 2020-05-29 17:59:00+00:00\n",
       "388       0.0 2020-05-29 19:32:00+00:00 2020-05-29 19:32:00+00:00\n",
       "389       0.0 2020-05-29 20:29:00+00:00 2020-05-29 20:29:00+00:00\n",
       "390       0.0 2020-05-29 21:05:00+00:00 2020-05-29 21:05:00+00:00\n",
       "\n",
       "[391 rows x 3 columns]"
      ]
     },
     "execution_count": 169,
     "metadata": {},
     "output_type": "execute_result"
    },
    {
     "data": {
      "image/png": "[encoded data removed]",
      "text/plain": [
       "<Figure size 864x432 with 2 Axes>"
      ]
     },
     "metadata": {
      "needs_background": "light"
     },
     "output_type": "display_data"
    }
   ],
   "source": [
    "ip.get_flyby_info() "
   ]
  },
  {
   "cell_type": "code",
   "execution_count": 174,
   "metadata": {
    "colab": {
     "base_uri": "https://localhost:8080/",
     "height": 564,
     "referenced_widgets": [
      "d108cd830bb748068fcab4e67de2748c",
      "f967f3a915b948969a0e8d1631173c31",
      "0ada9f4f43ee460692fd18ef56e30ef6",
      "59fcc6bfcb6742f58b673d2f97ee510a",
      "2ec5c9d3a1a74c3b83ed355d208aae6d",
      "9d1690385e86435d8bbf12287b65f7e4",
      "3f6af738a85a437db348ab6d7d150466",
      "68e6d75e760c4e839bfbb2f8e4aec6e9",
      "2425777fedc54e20a9db1674ff2886e4",
      "720c13eaef62463f8f51de02f5096f73",
      "deda351369aa4519b29aba9f380ccd60",
      "7ba97483ddb64b378691dec26b6369d9",
      "9d362990c99443839d1ee4a3006937d1",
      "d2220c02944f40d1827c44f1ba9fefe5",
      "f6a0eb7cad9649d6a91d89bb3bdcc668",
      "b07e61a32c5646039268590696f65206",
      "cd86c9ad9ea44805ab569e575186d986",
      "22a96055e1644b4c8ea345de7bdebce5",
      "87d8680fc619400e9b870469fdad0bce",
      "b072db47ecd449c88656603e761cc167",
      "ea08b94be6c247f6aca18df3d7c669fe",
      "c46d74dc5682426db04e9b8036f7eb11",
      "986fa00714b44aea993732b96c5a4fbf",
      "30c051642ead4f7a8d766b2a9b62220d"
     ]
    },
    "colab_type": "code",
    "id": "KcRQlqYbu97i",
    "outputId": "7e1ea384-fd90-4322-be6d-7fc338020e82"
   },
   "outputs": [
    {
     "data": {
      "application/vnd.jupyter.widget-view+json": {
       "model_id": "c41be3d2340347aa92b2578f5c2a90b9",
       "version_major": 2,
       "version_minor": 0
      },
      "text/plain": [
       "HBox(children=(FloatProgress(value=0.0, description='Pandas Apply', max=1285.0, style=ProgressStyle(descriptio…"
      ]
     },
     "metadata": {},
     "output_type": "display_data"
    },
    {
     "name": "stdout",
     "output_type": "stream",
     "text": [
      "\n"
     ]
    },
    {
     "data": {
      "application/vnd.jupyter.widget-view+json": {
       "model_id": "b1892f6525fd43769e30bf46eda05963",
       "version_major": 2,
       "version_minor": 0
      },
      "text/plain": [
       "HBox(children=(FloatProgress(value=0.0, description='Pandas Apply', max=1285.0, style=ProgressStyle(descriptio…"
      ]
     },
     "metadata": {},
     "output_type": "display_data"
    },
    {
     "name": "stdout",
     "output_type": "stream",
     "text": [
      "\n"
     ]
    },
    {
     "data": {
      "application/vnd.jupyter.widget-view+json": {
       "model_id": "cd27f2a3141443dd891824a3c571ffce",
       "version_major": 2,
       "version_minor": 0
      },
      "text/plain": [
       "HBox(children=(FloatProgress(value=0.0, description='Pandas Apply', max=1285.0, style=ProgressStyle(descriptio…"
      ]
     },
     "metadata": {},
     "output_type": "display_data"
    },
    {
     "name": "stdout",
     "output_type": "stream",
     "text": [
      "\n",
      "Wall time: 42.9 s\n"
     ]
    }
   ],
   "source": [
    "%%time\n",
    "ip.get_beam_path(num_points=30)"
   ]
  },
  {
   "cell_type": "code",
   "execution_count": null,
   "metadata": {},
   "outputs": [
    {
     "name": "stdout",
     "output_type": "stream",
     "text": [
      "Start date is 2020-05-15 21:46:00+00:00\n",
      "Middle date is 2020-05-22 21:46:00+00:00\n",
      "Final date is 2020-05-29 21:46:00+00:00\n",
      "\n"
     ]
    }
   ],
   "source": [
    "ip.plot(terminator=False, sat_trajectory=False, scatter=True, save=False)"
   ]
  },
  {
   "cell_type": "code",
   "execution_count": 131,
   "metadata": {},
   "outputs": [
    {
     "data": {
      "text/plain": [
       "array([[<Angle 59deg 40' 50.6\">, <Angle 00deg 46' 06.5\">,\n",
       "        88764.6375410326],\n",
       "       [<Angle 60deg 07' 37.9\">, <Angle 00deg 17' 23.2\">,\n",
       "        81417.30437171023],\n",
       "       [<Angle 60deg 34' 22.2\">, <Angle -00deg 12' 11.3\">,\n",
       "        74577.29267841125],\n",
       "       [<Angle 61deg 01' 03.0\">, <Angle -00deg 42' 39.0\">,\n",
       "        68246.18140752829],\n",
       "       [<Angle 61deg 27' 39.5\">, <Angle -01deg 14' 02.0\">,\n",
       "        62425.435664709075],\n",
       "       [<Angle 61deg 54' 11.3\">, <Angle -01deg 46' 22.5\">,\n",
       "        57116.405041714395],\n",
       "       [<Angle 62deg 20' 37.6\">, <Angle -02deg 19' 42.9\">,\n",
       "        52320.322067874724],\n",
       "       [<Angle 62deg 46' 57.8\">, <Angle -02deg 54' 05.7\">,\n",
       "        48038.300790224836],\n",
       "       [<Angle 63deg 13' 11.2\">, <Angle -03deg 29' 33.2\">,\n",
       "        44271.33548607303],\n",
       "       [<Angle 63deg 39' 17.1\">, <Angle -04deg 06' 08.2\">,\n",
       "        41020.29951150656],\n",
       "       [<Angle 64deg 05' 14.8\">, <Angle -04deg 43' 53.3\">,\n",
       "        38285.9442888569],\n",
       "       [<Angle 64deg 31' 03.5\">, <Angle -05deg 22' 51.5\">,\n",
       "        36068.89843589368],\n",
       "       [<Angle 64deg 56' 42.4\">, <Angle -06deg 03' 05.7\">,\n",
       "        34369.66703908851],\n",
       "       [<Angle 65deg 22' 10.6\">, <Angle -06deg 44' 38.9\">,\n",
       "        33188.631072876226],\n",
       "       [<Angle 65deg 47' 27.5\">, <Angle -07deg 27' 34.3\">,\n",
       "        32526.046966539176],\n",
       "       [<Angle 66deg 12' 31.9\">, <Angle -08deg 11' 55.3\">,\n",
       "        32382.046319789362],\n",
       "       [<Angle 66deg 37' 23.2\">, <Angle -08deg 57' 45.2\">,\n",
       "        32756.63576784807],\n",
       "       [<Angle 67deg 02' 00.2\">, <Angle -09deg 45' 07.6\">,\n",
       "        33649.69699628869],\n",
       "       [<Angle 67deg 26' 22.1\">, <Angle -10deg 34' 06.0\">,\n",
       "        35060.9869056457],\n",
       "       [<Angle 67deg 50' 27.8\">, <Angle -11deg 24' 44.1\">,\n",
       "        36990.13792514519],\n",
       "       [<Angle 68deg 14' 16.3\">, <Angle -12deg 17' 05.8\">,\n",
       "        39436.658474768075],\n",
       "       [<Angle 68deg 37' 46.5\">, <Angle -13deg 11' 14.8\">,\n",
       "        42399.93357420069],\n",
       "       [<Angle 69deg 00' 57.2\">, <Angle -14deg 07' 15.1\">,\n",
       "        45879.22559703738],\n",
       "       [<Angle 69deg 23' 47.3\">, <Angle -15deg 05' 10.6\">,\n",
       "        49873.67516802138],\n",
       "       [<Angle 69deg 46' 15.5\">, <Angle -16deg 05' 05.2\">,\n",
       "        54382.30220086854],\n",
       "       [<Angle 70deg 08' 20.7\">, <Angle -17deg 07' 02.9\">,\n",
       "        59404.00707379109],\n",
       "       [<Angle 70deg 30' 01.6\">, <Angle -18deg 11' 07.6\">,\n",
       "        64937.57193942571],\n",
       "       [<Angle 70deg 51' 16.7\">, <Angle -19deg 17' 23.1\">,\n",
       "        70981.66216569301],\n",
       "       [<Angle 71deg 12' 04.8\">, <Angle -20deg 25' 53.1\">,\n",
       "        77534.82790358824],\n",
       "       [<Angle 71deg 32' 24.4\">, <Angle -21deg 36' 41.0\">,\n",
       "        84595.50577774913]], dtype=object)"
      ]
     },
     "execution_count": 131,
     "metadata": {},
     "output_type": "execute_result"
    }
   ],
   "source": [
    "ip.df['beam_path_points_with_subpoints'][300]"
   ]
  },
  {
   "cell_type": "code",
   "execution_count": 150,
   "metadata": {},
   "outputs": [
    {
     "data": {
      "text/plain": [
       "[<matplotlib.lines.Line2D at 0x1dddecbd668>]"
      ]
     },
     "execution_count": 150,
     "metadata": {},
     "output_type": "execute_result"
    },
    {
     "data": {
      "image/png": "[encoded data removed]",
      "text/plain": [
       "<Figure size 432x288 with 1 Axes>"
      ]
     },
     "metadata": {
      "needs_background": "light"
     },
     "output_type": "display_data"
    }
   ],
   "source": [
    "plt.plot(ip.df['beam_path_points_with_subpoints'][300][:, 2]/1000)"
   ]
  },
  {
   "cell_type": "code",
   "execution_count": 132,
   "metadata": {},
   "outputs": [
    {
     "data": {
      "text/plain": [
       "[<matplotlib.lines.Line2D at 0x1dddd780908>]"
      ]
     },
     "execution_count": 132,
     "metadata": {},
     "output_type": "execute_result"
    },
    {
     "data": {
      "image/png": "[encoded data removed]",
      "text/plain": [
       "<Figure size 432x288 with 1 Axes>"
      ]
     },
     "metadata": {
      "needs_background": "light"
     },
     "output_type": "display_data"
    }
   ],
   "source": [
    "plt.plot(ip.df['beam_path_points_with_subpoints'][300][:, 2]/1000)"
   ]
  },
  {
   "cell_type": "code",
   "execution_count": 133,
   "metadata": {},
   "outputs": [
    {
     "data": {
      "text/plain": [
       "79999.99999999907"
      ]
     },
     "execution_count": 133,
     "metadata": {},
     "output_type": "execute_result"
    }
   ],
   "source": [
    "LA.norm(ip.df[\"entry_vec\"][300]) - R_earth"
   ]
  },
  {
   "cell_type": "code",
   "execution_count": 121,
   "metadata": {},
   "outputs": [
    {
     "data": {
      "text/plain": [
       "array([[ 5.96807323e+01,  7.68476792e-01,  8.87646375e+04],\n",
       "       [ 6.01272060e+01,  2.89778217e-01,  8.14173044e+04],\n",
       "       [ 6.05728469e+01, -2.03132032e-01,  7.45772927e+04],\n",
       "       [ 6.10174941e+01, -7.10820056e-01,  6.82461814e+04],\n",
       "       [ 6.14609808e+01, -1.23387712e+00,  6.24254357e+04],\n",
       "       [ 6.19031346e+01, -1.77292056e+00,  5.71164050e+04],\n",
       "       [ 6.23437772e+01, -2.32859472e+00,  5.23203221e+04],\n",
       "       [ 6.27827242e+01, -2.90157178e+00,  4.80383008e+04],\n",
       "       [ 6.32197846e+01, -3.49255255e+00,  4.42713355e+04],\n",
       "       [ 6.36547609e+01, -4.10226728e+00,  4.10202995e+04],\n",
       "       [ 6.40874485e+01, -4.73147622e+00,  3.82859443e+04],\n",
       "       [ 6.45176357e+01, -5.38097021e+00,  3.60688984e+04],\n",
       "       [ 6.49451031e+01, -6.05157101e+00,  3.43696670e+04],\n",
       "       [ 6.53696235e+01, -6.74413152e+00,  3.31886311e+04],\n",
       "       [ 6.57909616e+01, -7.45953570e+00,  3.25260470e+04],\n",
       "       [ 6.62088735e+01, -8.19869825e+00,  3.23820463e+04],\n",
       "       [ 6.66231063e+01, -8.96256398e+00,  3.27566358e+04],\n",
       "       [ 6.70333980e+01, -9.75210673e+00,  3.36496970e+04],\n",
       "       [ 6.74394770e+01, -1.05683279e+01,  3.50609869e+04],\n",
       "       [ 6.78410618e+01, -1.14122542e+01,  3.69901379e+04],\n",
       "       [ 6.82378605e+01, -1.22849352e+01,  3.94366585e+04],\n",
       "       [ 6.86295709e+01, -1.31874398e+01,  4.23999336e+04],\n",
       "       [ 6.90158795e+01, -1.41208519e+01,  4.58792256e+04],\n",
       "       [ 6.93964620e+01, -1.50862651e+01,  4.98736752e+04],\n",
       "       [ 6.97709826e+01, -1.60847767e+01,  5.43823022e+04],\n",
       "       [ 7.01390943e+01, -1.71174799e+01,  5.94040071e+04],\n",
       "       [ 7.05004382e+01, -1.81854551e+01,  6.49375719e+04],\n",
       "       [ 7.08546440e+01, -1.92897596e+01,  7.09816622e+04],\n",
       "       [ 7.12013304e+01, -2.04314159e+01,  7.75348279e+04],\n",
       "       [ 7.15401048e+01, -2.16113981e+01,  8.45955058e+04]])"
      ]
     },
     "execution_count": 121,
     "metadata": {},
     "output_type": "execute_result"
    }
   ],
   "source": [
    "ip.df[\"beam_path\"][300]"
   ]
  },
  {
   "cell_type": "code",
   "execution_count": 135,
   "metadata": {},
   "outputs": [
    {
     "data": {
      "text/plain": [
       "array([6451000.        , 6443507.51009558, 6436523.90344476,\n",
       "       6430050.83812506, 6424089.85743734, 6418642.38809775,\n",
       "       6413709.73855542, 6409293.09744026, 6405393.53214536,\n",
       "       6402011.98754761, 6399149.28487032, 6396806.12069093,\n",
       "       6394983.06609649, 6393680.56598954, 6392898.93854604,\n",
       "       6392638.37482721, 6392898.93854604, 6393680.56598954,\n",
       "       6394983.06609649, 6396806.12069093, 6399149.28487032,\n",
       "       6402011.98754761, 6405393.53214536, 6409293.09744026,\n",
       "       6413709.73855542, 6418642.38809775, 6424089.85743734,\n",
       "       6430050.83812506, 6436523.90344476, 6443507.51009558])"
      ]
     },
     "execution_count": 135,
     "metadata": {},
     "output_type": "execute_result"
    }
   ],
   "source": [
    "coords = []\n",
    "for row in ip.df[\"beam_path_points_direct_coords\"][300]:\n",
    "    coords.append(LA.norm(row))\n",
    "np.array(coords)"
   ]
  },
  {
   "cell_type": "code",
   "execution_count": 136,
   "metadata": {},
   "outputs": [
    {
     "data": {
      "text/plain": [
       "array([88764.6375410326, 81417.30437171023, 74577.29267841125,\n",
       "       68246.18140752829, 62425.435664709075, 57116.405041714395,\n",
       "       52320.322067874724, 48038.300790224836, 44271.33548607303,\n",
       "       41020.29951150656, 38285.9442888569, 36068.89843589368,\n",
       "       34369.66703908851, 33188.631072876226, 32526.046966539176,\n",
       "       32382.046319789362, 32756.63576784807, 33649.69699628869,\n",
       "       35060.9869056457, 36990.13792514519, 39436.658474768075,\n",
       "       42399.93357420069, 45879.22559703738, 49873.67516802138,\n",
       "       54382.30220086854, 59404.00707379109, 64937.57193942571,\n",
       "       70981.66216569301, 77534.82790358824, 84595.50577774913],\n",
       "      dtype=object)"
      ]
     },
     "execution_count": 136,
     "metadata": {},
     "output_type": "execute_result"
    }
   ],
   "source": [
    "ip.df[\"beam_path_points_with_subpoints\"][300][:, 2]"
   ]
  },
  {
   "cell_type": "code",
   "execution_count": 138,
   "metadata": {},
   "outputs": [
    {
     "data": {
      "text/plain": [
       "[<matplotlib.lines.Line2D at 0x1dddd94a400>]"
      ]
     },
     "execution_count": 138,
     "metadata": {},
     "output_type": "execute_result"
    },
    {
     "data": {
      "image/png": "[encoded data removed]",
      "text/plain": [
       "<Figure size 432x288 with 1 Axes>"
      ]
     },
     "metadata": {
      "needs_background": "light"
     },
     "output_type": "display_data"
    }
   ],
   "source": [
    "plt.plot((np.array(coords) - ip.df[\"beam_path_points_with_subpoints\"][300][:, 2])/1000)"
   ]
  },
  {
   "cell_type": "code",
   "execution_count": null,
   "metadata": {},
   "outputs": [],
   "source": []
  },
  {
   "cell_type": "code",
   "execution_count": null,
   "metadata": {},
   "outputs": [],
   "source": []
  },
  {
   "cell_type": "code",
   "execution_count": null,
   "metadata": {},
   "outputs": [],
   "source": []
  },
  {
   "cell_type": "code",
   "execution_count": null,
   "metadata": {},
   "outputs": [],
   "source": []
  },
  {
   "cell_type": "code",
   "execution_count": 21,
   "metadata": {},
   "outputs": [],
   "source": [
    "ip.df = pd.read_csv(\"oct_10_2019-oct_08_2020_fb_info_10sec.txt\")"
   ]
  },
  {
   "cell_type": "code",
   "execution_count": 30,
   "metadata": {},
   "outputs": [],
   "source": [
    "ip.df[\"Date\"] = pd.to_datetime(ip.df[\"Date\"])"
   ]
  },
  {
   "cell_type": "code",
   "execution_count": 31,
   "metadata": {},
   "outputs": [
    {
     "name": "stdout",
     "output_type": "stream",
     "text": [
      "Shape is  (11031, 3)\n"
     ]
    },
    {
     "data": {
      "text/html": [
       "<div>\n",
       "<style scoped>\n",
       "    .dataframe tbody tr th:only-of-type {\n",
       "        vertical-align: middle;\n",
       "    }\n",
       "\n",
       "    .dataframe tbody tr th {\n",
       "        vertical-align: top;\n",
       "    }\n",
       "\n",
       "    .dataframe thead th {\n",
       "        text-align: right;\n",
       "    }\n",
       "</style>\n",
       "<table border=\"1\" class=\"dataframe\">\n",
       "  <thead>\n",
       "    <tr style=\"text-align: right;\">\n",
       "      <th></th>\n",
       "      <th>Duration</th>\n",
       "      <th>Start</th>\n",
       "      <th>End</th>\n",
       "    </tr>\n",
       "  </thead>\n",
       "  <tbody>\n",
       "    <tr>\n",
       "      <th>0</th>\n",
       "      <td>10.0</td>\n",
       "      <td>2019-10-10 00:50:30+00:00</td>\n",
       "      <td>2019-10-10 00:50:40+00:00</td>\n",
       "    </tr>\n",
       "    <tr>\n",
       "      <th>1</th>\n",
       "      <td>10.0</td>\n",
       "      <td>2019-10-10 01:24:20+00:00</td>\n",
       "      <td>2019-10-10 01:24:30+00:00</td>\n",
       "    </tr>\n",
       "    <tr>\n",
       "      <th>2</th>\n",
       "      <td>30.0</td>\n",
       "      <td>2019-10-10 02:23:10+00:00</td>\n",
       "      <td>2019-10-10 02:23:40+00:00</td>\n",
       "    </tr>\n",
       "    <tr>\n",
       "      <th>3</th>\n",
       "      <td>20.0</td>\n",
       "      <td>2019-10-10 02:57:10+00:00</td>\n",
       "      <td>2019-10-10 02:57:30+00:00</td>\n",
       "    </tr>\n",
       "    <tr>\n",
       "      <th>4</th>\n",
       "      <td>20.0</td>\n",
       "      <td>2019-10-10 03:56:10+00:00</td>\n",
       "      <td>2019-10-10 03:56:30+00:00</td>\n",
       "    </tr>\n",
       "    <tr>\n",
       "      <th>...</th>\n",
       "      <td>...</td>\n",
       "      <td>...</td>\n",
       "      <td>...</td>\n",
       "    </tr>\n",
       "    <tr>\n",
       "      <th>11026</th>\n",
       "      <td>20.0</td>\n",
       "      <td>2020-10-08 20:37:10+00:00</td>\n",
       "      <td>2020-10-08 20:37:30+00:00</td>\n",
       "    </tr>\n",
       "    <tr>\n",
       "      <th>11027</th>\n",
       "      <td>30.0</td>\n",
       "      <td>2020-10-08 21:36:50+00:00</td>\n",
       "      <td>2020-10-08 21:37:20+00:00</td>\n",
       "    </tr>\n",
       "    <tr>\n",
       "      <th>11028</th>\n",
       "      <td>20.0</td>\n",
       "      <td>2020-10-08 22:10:00+00:00</td>\n",
       "      <td>2020-10-08 22:10:20+00:00</td>\n",
       "    </tr>\n",
       "    <tr>\n",
       "      <th>11029</th>\n",
       "      <td>30.0</td>\n",
       "      <td>2020-10-08 23:09:50+00:00</td>\n",
       "      <td>2020-10-08 23:10:20+00:00</td>\n",
       "    </tr>\n",
       "    <tr>\n",
       "      <th>11030</th>\n",
       "      <td>20.0</td>\n",
       "      <td>2020-10-08 23:43:00+00:00</td>\n",
       "      <td>2020-10-08 23:43:20+00:00</td>\n",
       "    </tr>\n",
       "  </tbody>\n",
       "</table>\n",
       "<p>11031 rows × 3 columns</p>\n",
       "</div>"
      ],
      "text/plain": [
       "       Duration                     Start                       End\n",
       "0          10.0 2019-10-10 00:50:30+00:00 2019-10-10 00:50:40+00:00\n",
       "1          10.0 2019-10-10 01:24:20+00:00 2019-10-10 01:24:30+00:00\n",
       "2          30.0 2019-10-10 02:23:10+00:00 2019-10-10 02:23:40+00:00\n",
       "3          20.0 2019-10-10 02:57:10+00:00 2019-10-10 02:57:30+00:00\n",
       "4          20.0 2019-10-10 03:56:10+00:00 2019-10-10 03:56:30+00:00\n",
       "...         ...                       ...                       ...\n",
       "11026      20.0 2020-10-08 20:37:10+00:00 2020-10-08 20:37:30+00:00\n",
       "11027      30.0 2020-10-08 21:36:50+00:00 2020-10-08 21:37:20+00:00\n",
       "11028      20.0 2020-10-08 22:10:00+00:00 2020-10-08 22:10:20+00:00\n",
       "11029      30.0 2020-10-08 23:09:50+00:00 2020-10-08 23:10:20+00:00\n",
       "11030      20.0 2020-10-08 23:43:00+00:00 2020-10-08 23:43:20+00:00\n",
       "\n",
       "[11031 rows x 3 columns]"
      ]
     },
     "execution_count": 31,
     "metadata": {},
     "output_type": "execute_result"
    },
    {
     "data": {
      "image/png": "[encoded data removed]",
      "text/plain": [
       "<Figure size 864x432 with 2 Axes>"
      ]
     },
     "metadata": {
      "needs_background": "light"
     },
     "output_type": "display_data"
    }
   ],
   "source": [
    "ip.get_flyby_info() "
   ]
  },
  {
   "cell_type": "code",
   "execution_count": 36,
   "metadata": {},
   "outputs": [
    {
     "data": {
      "text/plain": [
       "2046    660.0\n",
       "6637    660.0\n",
       "8454    660.0\n",
       "Name: Duration, dtype: float64"
      ]
     },
     "execution_count": 36,
     "metadata": {},
     "output_type": "execute_result"
    }
   ],
   "source": [
    "ip.flyby_info[\"Duration\"][ip.flyby_info[\"Duration\"]==660]"
   ]
  },
  {
   "cell_type": "code",
   "execution_count": 38,
   "metadata": {},
   "outputs": [
    {
     "data": {
      "text/html": [
       "<div>\n",
       "<style scoped>\n",
       "    .dataframe tbody tr th:only-of-type {\n",
       "        vertical-align: middle;\n",
       "    }\n",
       "\n",
       "    .dataframe tbody tr th {\n",
       "        vertical-align: top;\n",
       "    }\n",
       "\n",
       "    .dataframe thead th {\n",
       "        text-align: right;\n",
       "    }\n",
       "</style>\n",
       "<table border=\"1\" class=\"dataframe\">\n",
       "  <thead>\n",
       "    <tr style=\"text-align: right;\">\n",
       "      <th></th>\n",
       "      <th>Duration</th>\n",
       "      <th>Start</th>\n",
       "      <th>End</th>\n",
       "    </tr>\n",
       "  </thead>\n",
       "  <tbody>\n",
       "    <tr>\n",
       "      <th>6637</th>\n",
       "      <td>660.0</td>\n",
       "      <td>2020-05-15 21:50:00+00:00</td>\n",
       "      <td>2020-05-15 22:01:00+00:00</td>\n",
       "    </tr>\n",
       "  </tbody>\n",
       "</table>\n",
       "</div>"
      ],
      "text/plain": [
       "      Duration                     Start                       End\n",
       "6637     660.0 2020-05-15 21:50:00+00:00 2020-05-15 22:01:00+00:00"
      ]
     },
     "execution_count": 38,
     "metadata": {},
     "output_type": "execute_result"
    }
   ],
   "source": [
    "ip.flyby_info[6637:6638]"
   ]
  },
  {
   "cell_type": "code",
   "execution_count": 33,
   "metadata": {},
   "outputs": [
    {
     "data": {
      "text/plain": [
       "Text(0, 0.5, 'Duration of flyby, sec')"
      ]
     },
     "execution_count": 33,
     "metadata": {},
     "output_type": "execute_result"
    },
    {
     "data": {
      "image/png": "[encoded data removed]",
      "text/plain": [
       "<Figure size 864x432 with 1 Axes>"
      ]
     },
     "metadata": {
      "needs_background": "light"
     },
     "output_type": "display_data"
    }
   ],
   "source": [
    "fig, ax = plt.subplots()\n",
    "fig.set_size_inches(12, 6)\n",
    "ax.set_title('Flyby duration plots')\n",
    "ax.plot(ip.flyby_info[\"Start\"], ip.flyby_info[\"Duration\"])\n",
    "ax.set_xlabel(\"Date\")\n",
    "ax.set_ylabel(\"Duration of flyby, sec\")\n",
    "# ax.set_yscale('log')\n",
    "\n",
    "\n",
    "# ax1.plot(flyby_info[\"Duration\"])\n",
    "# ax1.set_xlabel(\"Number of flyby\")\n",
    "# ax1.set_ylabel(\"Duration of flyby, sec\")\n",
    "\n",
    "# ax2 = sns.distplot(flyby_info[\"Duration\"])\n",
    "# ax2.set_ylabel(\"Fraction\")\n",
    "# ax2.set_xlabel(\"Duration of flyby, sec\")"
   ]
  },
  {
   "cell_type": "code",
   "execution_count": null,
   "metadata": {},
   "outputs": [],
   "source": []
  }
 ],
 "metadata": {
  "colab": {
   "collapsed_sections": [],
   "name": "When the Sun is visible?",
   "provenance": []
  },
  "kernelspec": {
   "display_name": "Python 3",
   "language": "python",
   "name": "python3"
  },
  "language_info": {
   "codemirror_mode": {
    "name": "ipython",
    "version": 3
   },
   "file_extension": ".py",
   "mimetype": "text/x-python",
   "name": "python",
   "nbconvert_exporter": "python",
   "pygments_lexer": "ipython3",
   "version": "3.7.3"
  },
  "widgets": {
   "application/vnd.jupyter.widget-state+json": {
    "00f0b51364664a39888b03e4dbe77b20": {
     "model_module": "@jupyter-widgets/base",
     "model_name": "LayoutModel",
     "state": {
      "_model_module": "@jupyter-widgets/base",
      "_model_module_version": "1.2.0",
      "_model_name": "LayoutModel",
      "_view_count": null,
      "_view_module": "@jupyter-widgets/base",
      "_view_module_version": "1.2.0",
      "_view_name": "LayoutView",
      "align_content": null,
      "align_items": null,
      "align_self": null,
      "border": null,
      "bottom": null,
      "display": null,
      "flex": null,
      "flex_flow": null,
      "grid_area": null,
      "grid_auto_columns": null,
      "grid_auto_flow": null,
      "grid_auto_rows": null,
      "grid_column": null,
      "grid_gap": null,
      "grid_row": null,
      "grid_template_areas": null,
      "grid_template_columns": null,
      "grid_template_rows": null,
      "height": null,
      "justify_content": null,
      "justify_items": null,
      "left": null,
      "margin": null,
      "max_height": null,
      "max_width": null,
      "min_height": null,
      "min_width": null,
      "object_fit": null,
      "object_position": null,
      "order": null,
      "overflow": null,
      "overflow_x": null,
      "overflow_y": null,
      "padding": null,
      "right": null,
      "top": null,
      "visibility": null,
      "width": null
     }
    },
    "0ada9f4f43ee460692fd18ef56e30ef6": {
     "model_module": "@jupyter-widgets/controls",
     "model_name": "IntProgressModel",
     "state": {
      "_dom_classes": [],
      "_model_module": "@jupyter-widgets/controls",
      "_model_module_version": "1.5.0",
      "_model_name": "IntProgressModel",
      "_view_count": null,
      "_view_module": "@jupyter-widgets/controls",
      "_view_module_version": "1.5.0",
      "_view_name": "ProgressView",
      "bar_style": "success",
      "description": "Pandas Apply: 100%",
      "description_tooltip": null,
      "layout": "IPY_MODEL_9d1690385e86435d8bbf12287b65f7e4",
      "max": 6,
      "min": 0,
      "orientation": "horizontal",
      "style": "IPY_MODEL_2ec5c9d3a1a74c3b83ed355d208aae6d",
      "value": 6
     }
    },
    "17287d82c51748cd84484c6a9bf6c791": {
     "model_module": "@jupyter-widgets/controls",
     "model_name": "HBoxModel",
     "state": {
      "_dom_classes": [],
      "_model_module": "@jupyter-widgets/controls",
      "_model_module_version": "1.5.0",
      "_model_name": "HBoxModel",
      "_view_count": null,
      "_view_module": "@jupyter-widgets/controls",
      "_view_module_version": "1.5.0",
      "_view_name": "HBoxView",
      "box_style": "",
      "children": [
       "IPY_MODEL_5ee7546bbcde4ea4ab6ed3d4f40b6d32",
       "IPY_MODEL_8b724344716e40d9b20e88df18b6844d"
      ],
      "layout": "IPY_MODEL_a05adfe62b104067a572dbafb00cbbea"
     }
    },
    "22a96055e1644b4c8ea345de7bdebce5": {
     "model_module": "@jupyter-widgets/base",
     "model_name": "LayoutModel",
     "state": {
      "_model_module": "@jupyter-widgets/base",
      "_model_module_version": "1.2.0",
      "_model_name": "LayoutModel",
      "_view_count": null,
      "_view_module": "@jupyter-widgets/base",
      "_view_module_version": "1.2.0",
      "_view_name": "LayoutView",
      "align_content": null,
      "align_items": null,
      "align_self": null,
      "border": null,
      "bottom": null,
      "display": null,
      "flex": null,
      "flex_flow": null,
      "grid_area": null,
      "grid_auto_columns": null,
      "grid_auto_flow": null,
      "grid_auto_rows": null,
      "grid_column": null,
      "grid_gap": null,
      "grid_row": null,
      "grid_template_areas": null,
      "grid_template_columns": null,
      "grid_template_rows": null,
      "height": null,
      "justify_content": null,
      "justify_items": null,
      "left": null,
      "margin": null,
      "max_height": null,
      "max_width": null,
      "min_height": null,
      "min_width": null,
      "object_fit": null,
      "object_position": null,
      "order": null,
      "overflow": null,
      "overflow_x": null,
      "overflow_y": null,
      "padding": null,
      "right": null,
      "top": null,
      "visibility": null,
      "width": null
     }
    },
    "2425777fedc54e20a9db1674ff2886e4": {
     "model_module": "@jupyter-widgets/controls",
     "model_name": "HBoxModel",
     "state": {
      "_dom_classes": [],
      "_model_module": "@jupyter-widgets/controls",
      "_model_module_version": "1.5.0",
      "_model_name": "HBoxModel",
      "_view_count": null,
      "_view_module": "@jupyter-widgets/controls",
      "_view_module_version": "1.5.0",
      "_view_name": "HBoxView",
      "box_style": "",
      "children": [
       "IPY_MODEL_deda351369aa4519b29aba9f380ccd60",
       "IPY_MODEL_7ba97483ddb64b378691dec26b6369d9"
      ],
      "layout": "IPY_MODEL_720c13eaef62463f8f51de02f5096f73"
     }
    },
    "2ec5c9d3a1a74c3b83ed355d208aae6d": {
     "model_module": "@jupyter-widgets/controls",
     "model_name": "ProgressStyleModel",
     "state": {
      "_model_module": "@jupyter-widgets/controls",
      "_model_module_version": "1.5.0",
      "_model_name": "ProgressStyleModel",
      "_view_count": null,
      "_view_module": "@jupyter-widgets/base",
      "_view_module_version": "1.2.0",
      "_view_name": "StyleView",
      "bar_color": null,
      "description_width": "initial"
     }
    },
    "2fdbae36e10b4a58a3e24ca6e14ced1c": {
     "model_module": "@jupyter-widgets/controls",
     "model_name": "IntProgressModel",
     "state": {
      "_dom_classes": [],
      "_model_module": "@jupyter-widgets/controls",
      "_model_module_version": "1.5.0",
      "_model_name": "IntProgressModel",
      "_view_count": null,
      "_view_module": "@jupyter-widgets/controls",
      "_view_module_version": "1.5.0",
      "_view_name": "ProgressView",
      "bar_style": "success",
      "description": "Pandas Apply: 100%",
      "description_tooltip": null,
      "layout": "IPY_MODEL_e2e89e120ea5421bb1d561d98459cd20",
      "max": 506,
      "min": 0,
      "orientation": "horizontal",
      "style": "IPY_MODEL_331141c416854d4a9ee1bd9ca32b5d60",
      "value": 506
     }
    },
    "30c051642ead4f7a8d766b2a9b62220d": {
     "model_module": "@jupyter-widgets/base",
     "model_name": "LayoutModel",
     "state": {
      "_model_module": "@jupyter-widgets/base",
      "_model_module_version": "1.2.0",
      "_model_name": "LayoutModel",
      "_view_count": null,
      "_view_module": "@jupyter-widgets/base",
      "_view_module_version": "1.2.0",
      "_view_name": "LayoutView",
      "align_content": null,
      "align_items": null,
      "align_self": null,
      "border": null,
      "bottom": null,
      "display": null,
      "flex": null,
      "flex_flow": null,
      "grid_area": null,
      "grid_auto_columns": null,
      "grid_auto_flow": null,
      "grid_auto_rows": null,
      "grid_column": null,
      "grid_gap": null,
      "grid_row": null,
      "grid_template_areas": null,
      "grid_template_columns": null,
      "grid_template_rows": null,
      "height": null,
      "justify_content": null,
      "justify_items": null,
      "left": null,
      "margin": null,
      "max_height": null,
      "max_width": null,
      "min_height": null,
      "min_width": null,
      "object_fit": null,
      "object_position": null,
      "order": null,
      "overflow": null,
      "overflow_x": null,
      "overflow_y": null,
      "padding": null,
      "right": null,
      "top": null,
      "visibility": null,
      "width": null
     }
    },
    "331141c416854d4a9ee1bd9ca32b5d60": {
     "model_module": "@jupyter-widgets/controls",
     "model_name": "ProgressStyleModel",
     "state": {
      "_model_module": "@jupyter-widgets/controls",
      "_model_module_version": "1.5.0",
      "_model_name": "ProgressStyleModel",
      "_view_count": null,
      "_view_module": "@jupyter-widgets/base",
      "_view_module_version": "1.2.0",
      "_view_name": "StyleView",
      "bar_color": null,
      "description_width": "initial"
     }
    },
    "38fb9aaf4c41407b973d27e672c3ea40": {
     "model_module": "@jupyter-widgets/base",
     "model_name": "LayoutModel",
     "state": {
      "_model_module": "@jupyter-widgets/base",
      "_model_module_version": "1.2.0",
      "_model_name": "LayoutModel",
      "_view_count": null,
      "_view_module": "@jupyter-widgets/base",
      "_view_module_version": "1.2.0",
      "_view_name": "LayoutView",
      "align_content": null,
      "align_items": null,
      "align_self": null,
      "border": null,
      "bottom": null,
      "display": null,
      "flex": null,
      "flex_flow": null,
      "grid_area": null,
      "grid_auto_columns": null,
      "grid_auto_flow": null,
      "grid_auto_rows": null,
      "grid_column": null,
      "grid_gap": null,
      "grid_row": null,
      "grid_template_areas": null,
      "grid_template_columns": null,
      "grid_template_rows": null,
      "height": null,
      "justify_content": null,
      "justify_items": null,
      "left": null,
      "margin": null,
      "max_height": null,
      "max_width": null,
      "min_height": null,
      "min_width": null,
      "object_fit": null,
      "object_position": null,
      "order": null,
      "overflow": null,
      "overflow_x": null,
      "overflow_y": null,
      "padding": null,
      "right": null,
      "top": null,
      "visibility": null,
      "width": null
     }
    },
    "3f6af738a85a437db348ab6d7d150466": {
     "model_module": "@jupyter-widgets/controls",
     "model_name": "DescriptionStyleModel",
     "state": {
      "_model_module": "@jupyter-widgets/controls",
      "_model_module_version": "1.5.0",
      "_model_name": "DescriptionStyleModel",
      "_view_count": null,
      "_view_module": "@jupyter-widgets/base",
      "_view_module_version": "1.2.0",
      "_view_name": "StyleView",
      "description_width": ""
     }
    },
    "4ebc61d3fce54d90acb935e331b4009b": {
     "model_module": "@jupyter-widgets/controls",
     "model_name": "DescriptionStyleModel",
     "state": {
      "_model_module": "@jupyter-widgets/controls",
      "_model_module_version": "1.5.0",
      "_model_name": "DescriptionStyleModel",
      "_view_count": null,
      "_view_module": "@jupyter-widgets/base",
      "_view_module_version": "1.2.0",
      "_view_name": "StyleView",
      "description_width": ""
     }
    },
    "59fcc6bfcb6742f58b673d2f97ee510a": {
     "model_module": "@jupyter-widgets/controls",
     "model_name": "HTMLModel",
     "state": {
      "_dom_classes": [],
      "_model_module": "@jupyter-widgets/controls",
      "_model_module_version": "1.5.0",
      "_model_name": "HTMLModel",
      "_view_count": null,
      "_view_module": "@jupyter-widgets/controls",
      "_view_module_version": "1.5.0",
      "_view_name": "HTMLView",
      "description": "",
      "description_tooltip": null,
      "layout": "IPY_MODEL_68e6d75e760c4e839bfbb2f8e4aec6e9",
      "placeholder": "​",
      "style": "IPY_MODEL_3f6af738a85a437db348ab6d7d150466",
      "value": " 6/6 [00:00&lt;00:00, 25.49it/s]"
     }
    },
    "5ee7546bbcde4ea4ab6ed3d4f40b6d32": {
     "model_module": "@jupyter-widgets/controls",
     "model_name": "IntProgressModel",
     "state": {
      "_dom_classes": [],
      "_model_module": "@jupyter-widgets/controls",
      "_model_module_version": "1.5.0",
      "_model_name": "IntProgressModel",
      "_view_count": null,
      "_view_module": "@jupyter-widgets/controls",
      "_view_module_version": "1.5.0",
      "_view_name": "ProgressView",
      "bar_style": "success",
      "description": "Pandas Apply: 100%",
      "description_tooltip": null,
      "layout": "IPY_MODEL_af1496a2879f45f09a7648cd27fe2a19",
      "max": 506,
      "min": 0,
      "orientation": "horizontal",
      "style": "IPY_MODEL_987e0b21ffa149a19820e30fd7759988",
      "value": 506
     }
    },
    "68e6d75e760c4e839bfbb2f8e4aec6e9": {
     "model_module": "@jupyter-widgets/base",
     "model_name": "LayoutModel",
     "state": {
      "_model_module": "@jupyter-widgets/base",
      "_model_module_version": "1.2.0",
      "_model_name": "LayoutModel",
      "_view_count": null,
      "_view_module": "@jupyter-widgets/base",
      "_view_module_version": "1.2.0",
      "_view_name": "LayoutView",
      "align_content": null,
      "align_items": null,
      "align_self": null,
      "border": null,
      "bottom": null,
      "display": null,
      "flex": null,
      "flex_flow": null,
      "grid_area": null,
      "grid_auto_columns": null,
      "grid_auto_flow": null,
      "grid_auto_rows": null,
      "grid_column": null,
      "grid_gap": null,
      "grid_row": null,
      "grid_template_areas": null,
      "grid_template_columns": null,
      "grid_template_rows": null,
      "height": null,
      "justify_content": null,
      "justify_items": null,
      "left": null,
      "margin": null,
      "max_height": null,
      "max_width": null,
      "min_height": null,
      "min_width": null,
      "object_fit": null,
      "object_position": null,
      "order": null,
      "overflow": null,
      "overflow_x": null,
      "overflow_y": null,
      "padding": null,
      "right": null,
      "top": null,
      "visibility": null,
      "width": null
     }
    },
    "720c13eaef62463f8f51de02f5096f73": {
     "model_module": "@jupyter-widgets/base",
     "model_name": "LayoutModel",
     "state": {
      "_model_module": "@jupyter-widgets/base",
      "_model_module_version": "1.2.0",
      "_model_name": "LayoutModel",
      "_view_count": null,
      "_view_module": "@jupyter-widgets/base",
      "_view_module_version": "1.2.0",
      "_view_name": "LayoutView",
      "align_content": null,
      "align_items": null,
      "align_self": null,
      "border": null,
      "bottom": null,
      "display": null,
      "flex": null,
      "flex_flow": null,
      "grid_area": null,
      "grid_auto_columns": null,
      "grid_auto_flow": null,
      "grid_auto_rows": null,
      "grid_column": null,
      "grid_gap": null,
      "grid_row": null,
      "grid_template_areas": null,
      "grid_template_columns": null,
      "grid_template_rows": null,
      "height": null,
      "justify_content": null,
      "justify_items": null,
      "left": null,
      "margin": null,
      "max_height": null,
      "max_width": null,
      "min_height": null,
      "min_width": null,
      "object_fit": null,
      "object_position": null,
      "order": null,
      "overflow": null,
      "overflow_x": null,
      "overflow_y": null,
      "padding": null,
      "right": null,
      "top": null,
      "visibility": null,
      "width": null
     }
    },
    "767aee6fc0454f5aa4681115efaa782d": {
     "model_module": "@jupyter-widgets/controls",
     "model_name": "DescriptionStyleModel",
     "state": {
      "_model_module": "@jupyter-widgets/controls",
      "_model_module_version": "1.5.0",
      "_model_name": "DescriptionStyleModel",
      "_view_count": null,
      "_view_module": "@jupyter-widgets/base",
      "_view_module_version": "1.2.0",
      "_view_name": "StyleView",
      "description_width": ""
     }
    },
    "7ba97483ddb64b378691dec26b6369d9": {
     "model_module": "@jupyter-widgets/controls",
     "model_name": "HTMLModel",
     "state": {
      "_dom_classes": [],
      "_model_module": "@jupyter-widgets/controls",
      "_model_module_version": "1.5.0",
      "_model_name": "HTMLModel",
      "_view_count": null,
      "_view_module": "@jupyter-widgets/controls",
      "_view_module_version": "1.5.0",
      "_view_name": "HTMLView",
      "description": "",
      "description_tooltip": null,
      "layout": "IPY_MODEL_b07e61a32c5646039268590696f65206",
      "placeholder": "​",
      "style": "IPY_MODEL_f6a0eb7cad9649d6a91d89bb3bdcc668",
      "value": " 6/6 [00:00&lt;00:00, 32.51it/s]"
     }
    },
    "87d8680fc619400e9b870469fdad0bce": {
     "model_module": "@jupyter-widgets/controls",
     "model_name": "IntProgressModel",
     "state": {
      "_dom_classes": [],
      "_model_module": "@jupyter-widgets/controls",
      "_model_module_version": "1.5.0",
      "_model_name": "IntProgressModel",
      "_view_count": null,
      "_view_module": "@jupyter-widgets/controls",
      "_view_module_version": "1.5.0",
      "_view_name": "ProgressView",
      "bar_style": "success",
      "description": "Pandas Apply: 100%",
      "description_tooltip": null,
      "layout": "IPY_MODEL_c46d74dc5682426db04e9b8036f7eb11",
      "max": 4,
      "min": 0,
      "orientation": "horizontal",
      "style": "IPY_MODEL_ea08b94be6c247f6aca18df3d7c669fe",
      "value": 4
     }
    },
    "89f33eed061348b8ba76144f634c1108": {
     "model_module": "@jupyter-widgets/controls",
     "model_name": "HTMLModel",
     "state": {
      "_dom_classes": [],
      "_model_module": "@jupyter-widgets/controls",
      "_model_module_version": "1.5.0",
      "_model_name": "HTMLModel",
      "_view_count": null,
      "_view_module": "@jupyter-widgets/controls",
      "_view_module_version": "1.5.0",
      "_view_name": "HTMLView",
      "description": "",
      "description_tooltip": null,
      "layout": "IPY_MODEL_00f0b51364664a39888b03e4dbe77b20",
      "placeholder": "​",
      "style": "IPY_MODEL_ffc8cbe196b7441091bbe0bb0a29a258",
      "value": " 506/506 [05:22&lt;00:00,  1.57it/s]"
     }
    },
    "8b724344716e40d9b20e88df18b6844d": {
     "model_module": "@jupyter-widgets/controls",
     "model_name": "HTMLModel",
     "state": {
      "_dom_classes": [],
      "_model_module": "@jupyter-widgets/controls",
      "_model_module_version": "1.5.0",
      "_model_name": "HTMLModel",
      "_view_count": null,
      "_view_module": "@jupyter-widgets/controls",
      "_view_module_version": "1.5.0",
      "_view_name": "HTMLView",
      "description": "",
      "description_tooltip": null,
      "layout": "IPY_MODEL_38fb9aaf4c41407b973d27e672c3ea40",
      "placeholder": "​",
      "style": "IPY_MODEL_767aee6fc0454f5aa4681115efaa782d",
      "value": " 506/506 [05:25&lt;00:00,  1.55it/s]"
     }
    },
    "986fa00714b44aea993732b96c5a4fbf": {
     "model_module": "@jupyter-widgets/controls",
     "model_name": "DescriptionStyleModel",
     "state": {
      "_model_module": "@jupyter-widgets/controls",
      "_model_module_version": "1.5.0",
      "_model_name": "DescriptionStyleModel",
      "_view_count": null,
      "_view_module": "@jupyter-widgets/base",
      "_view_module_version": "1.2.0",
      "_view_name": "StyleView",
      "description_width": ""
     }
    },
    "987e0b21ffa149a19820e30fd7759988": {
     "model_module": "@jupyter-widgets/controls",
     "model_name": "ProgressStyleModel",
     "state": {
      "_model_module": "@jupyter-widgets/controls",
      "_model_module_version": "1.5.0",
      "_model_name": "ProgressStyleModel",
      "_view_count": null,
      "_view_module": "@jupyter-widgets/base",
      "_view_module_version": "1.2.0",
      "_view_name": "StyleView",
      "bar_color": null,
      "description_width": "initial"
     }
    },
    "9d1690385e86435d8bbf12287b65f7e4": {
     "model_module": "@jupyter-widgets/base",
     "model_name": "LayoutModel",
     "state": {
      "_model_module": "@jupyter-widgets/base",
      "_model_module_version": "1.2.0",
      "_model_name": "LayoutModel",
      "_view_count": null,
      "_view_module": "@jupyter-widgets/base",
      "_view_module_version": "1.2.0",
      "_view_name": "LayoutView",
      "align_content": null,
      "align_items": null,
      "align_self": null,
      "border": null,
      "bottom": null,
      "display": null,
      "flex": null,
      "flex_flow": null,
      "grid_area": null,
      "grid_auto_columns": null,
      "grid_auto_flow": null,
      "grid_auto_rows": null,
      "grid_column": null,
      "grid_gap": null,
      "grid_row": null,
      "grid_template_areas": null,
      "grid_template_columns": null,
      "grid_template_rows": null,
      "height": null,
      "justify_content": null,
      "justify_items": null,
      "left": null,
      "margin": null,
      "max_height": null,
      "max_width": null,
      "min_height": null,
      "min_width": null,
      "object_fit": null,
      "object_position": null,
      "order": null,
      "overflow": null,
      "overflow_x": null,
      "overflow_y": null,
      "padding": null,
      "right": null,
      "top": null,
      "visibility": null,
      "width": null
     }
    },
    "9d362990c99443839d1ee4a3006937d1": {
     "model_module": "@jupyter-widgets/controls",
     "model_name": "ProgressStyleModel",
     "state": {
      "_model_module": "@jupyter-widgets/controls",
      "_model_module_version": "1.5.0",
      "_model_name": "ProgressStyleModel",
      "_view_count": null,
      "_view_module": "@jupyter-widgets/base",
      "_view_module_version": "1.2.0",
      "_view_name": "StyleView",
      "bar_color": null,
      "description_width": "initial"
     }
    },
    "9feae728f2784d37b733991be9f1e33c": {
     "model_module": "@jupyter-widgets/controls",
     "model_name": "ProgressStyleModel",
     "state": {
      "_model_module": "@jupyter-widgets/controls",
      "_model_module_version": "1.5.0",
      "_model_name": "ProgressStyleModel",
      "_view_count": null,
      "_view_module": "@jupyter-widgets/base",
      "_view_module_version": "1.2.0",
      "_view_name": "StyleView",
      "bar_color": null,
      "description_width": "initial"
     }
    },
    "a05adfe62b104067a572dbafb00cbbea": {
     "model_module": "@jupyter-widgets/base",
     "model_name": "LayoutModel",
     "state": {
      "_model_module": "@jupyter-widgets/base",
      "_model_module_version": "1.2.0",
      "_model_name": "LayoutModel",
      "_view_count": null,
      "_view_module": "@jupyter-widgets/base",
      "_view_module_version": "1.2.0",
      "_view_name": "LayoutView",
      "align_content": null,
      "align_items": null,
      "align_self": null,
      "border": null,
      "bottom": null,
      "display": null,
      "flex": null,
      "flex_flow": null,
      "grid_area": null,
      "grid_auto_columns": null,
      "grid_auto_flow": null,
      "grid_auto_rows": null,
      "grid_column": null,
      "grid_gap": null,
      "grid_row": null,
      "grid_template_areas": null,
      "grid_template_columns": null,
      "grid_template_rows": null,
      "height": null,
      "justify_content": null,
      "justify_items": null,
      "left": null,
      "margin": null,
      "max_height": null,
      "max_width": null,
      "min_height": null,
      "min_width": null,
      "object_fit": null,
      "object_position": null,
      "order": null,
      "overflow": null,
      "overflow_x": null,
      "overflow_y": null,
      "padding": null,
      "right": null,
      "top": null,
      "visibility": null,
      "width": null
     }
    },
    "af1496a2879f45f09a7648cd27fe2a19": {
     "model_module": "@jupyter-widgets/base",
     "model_name": "LayoutModel",
     "state": {
      "_model_module": "@jupyter-widgets/base",
      "_model_module_version": "1.2.0",
      "_model_name": "LayoutModel",
      "_view_count": null,
      "_view_module": "@jupyter-widgets/base",
      "_view_module_version": "1.2.0",
      "_view_name": "LayoutView",
      "align_content": null,
      "align_items": null,
      "align_self": null,
      "border": null,
      "bottom": null,
      "display": null,
      "flex": null,
      "flex_flow": null,
      "grid_area": null,
      "grid_auto_columns": null,
      "grid_auto_flow": null,
      "grid_auto_rows": null,
      "grid_column": null,
      "grid_gap": null,
      "grid_row": null,
      "grid_template_areas": null,
      "grid_template_columns": null,
      "grid_template_rows": null,
      "height": null,
      "justify_content": null,
      "justify_items": null,
      "left": null,
      "margin": null,
      "max_height": null,
      "max_width": null,
      "min_height": null,
      "min_width": null,
      "object_fit": null,
      "object_position": null,
      "order": null,
      "overflow": null,
      "overflow_x": null,
      "overflow_y": null,
      "padding": null,
      "right": null,
      "top": null,
      "visibility": null,
      "width": null
     }
    },
    "b072db47ecd449c88656603e761cc167": {
     "model_module": "@jupyter-widgets/controls",
     "model_name": "HTMLModel",
     "state": {
      "_dom_classes": [],
      "_model_module": "@jupyter-widgets/controls",
      "_model_module_version": "1.5.0",
      "_model_name": "HTMLModel",
      "_view_count": null,
      "_view_module": "@jupyter-widgets/controls",
      "_view_module_version": "1.5.0",
      "_view_name": "HTMLView",
      "description": "",
      "description_tooltip": null,
      "layout": "IPY_MODEL_30c051642ead4f7a8d766b2a9b62220d",
      "placeholder": "​",
      "style": "IPY_MODEL_986fa00714b44aea993732b96c5a4fbf",
      "value": " 4/4 [05:21&lt;00:00, 80.50s/it]"
     }
    },
    "b07e61a32c5646039268590696f65206": {
     "model_module": "@jupyter-widgets/base",
     "model_name": "LayoutModel",
     "state": {
      "_model_module": "@jupyter-widgets/base",
      "_model_module_version": "1.2.0",
      "_model_name": "LayoutModel",
      "_view_count": null,
      "_view_module": "@jupyter-widgets/base",
      "_view_module_version": "1.2.0",
      "_view_name": "LayoutView",
      "align_content": null,
      "align_items": null,
      "align_self": null,
      "border": null,
      "bottom": null,
      "display": null,
      "flex": null,
      "flex_flow": null,
      "grid_area": null,
      "grid_auto_columns": null,
      "grid_auto_flow": null,
      "grid_auto_rows": null,
      "grid_column": null,
      "grid_gap": null,
      "grid_row": null,
      "grid_template_areas": null,
      "grid_template_columns": null,
      "grid_template_rows": null,
      "height": null,
      "justify_content": null,
      "justify_items": null,
      "left": null,
      "margin": null,
      "max_height": null,
      "max_width": null,
      "min_height": null,
      "min_width": null,
      "object_fit": null,
      "object_position": null,
      "order": null,
      "overflow": null,
      "overflow_x": null,
      "overflow_y": null,
      "padding": null,
      "right": null,
      "top": null,
      "visibility": null,
      "width": null
     }
    },
    "b1222cd594664296a29e8e45acf3bc9c": {
     "model_module": "@jupyter-widgets/base",
     "model_name": "LayoutModel",
     "state": {
      "_model_module": "@jupyter-widgets/base",
      "_model_module_version": "1.2.0",
      "_model_name": "LayoutModel",
      "_view_count": null,
      "_view_module": "@jupyter-widgets/base",
      "_view_module_version": "1.2.0",
      "_view_name": "LayoutView",
      "align_content": null,
      "align_items": null,
      "align_self": null,
      "border": null,
      "bottom": null,
      "display": null,
      "flex": null,
      "flex_flow": null,
      "grid_area": null,
      "grid_auto_columns": null,
      "grid_auto_flow": null,
      "grid_auto_rows": null,
      "grid_column": null,
      "grid_gap": null,
      "grid_row": null,
      "grid_template_areas": null,
      "grid_template_columns": null,
      "grid_template_rows": null,
      "height": null,
      "justify_content": null,
      "justify_items": null,
      "left": null,
      "margin": null,
      "max_height": null,
      "max_width": null,
      "min_height": null,
      "min_width": null,
      "object_fit": null,
      "object_position": null,
      "order": null,
      "overflow": null,
      "overflow_x": null,
      "overflow_y": null,
      "padding": null,
      "right": null,
      "top": null,
      "visibility": null,
      "width": null
     }
    },
    "c02fee84799349038166df04a62426d8": {
     "model_module": "@jupyter-widgets/controls",
     "model_name": "HBoxModel",
     "state": {
      "_dom_classes": [],
      "_model_module": "@jupyter-widgets/controls",
      "_model_module_version": "1.5.0",
      "_model_name": "HBoxModel",
      "_view_count": null,
      "_view_module": "@jupyter-widgets/controls",
      "_view_module_version": "1.5.0",
      "_view_name": "HBoxView",
      "box_style": "",
      "children": [
       "IPY_MODEL_eebf72e4d155478f846b2b49e33434f2",
       "IPY_MODEL_89f33eed061348b8ba76144f634c1108"
      ],
      "layout": "IPY_MODEL_b1222cd594664296a29e8e45acf3bc9c"
     }
    },
    "c1c4bcf6687d4fc49071f88c19fac3b7": {
     "model_module": "@jupyter-widgets/controls",
     "model_name": "HBoxModel",
     "state": {
      "_dom_classes": [],
      "_model_module": "@jupyter-widgets/controls",
      "_model_module_version": "1.5.0",
      "_model_name": "HBoxModel",
      "_view_count": null,
      "_view_module": "@jupyter-widgets/controls",
      "_view_module_version": "1.5.0",
      "_view_name": "HBoxView",
      "box_style": "",
      "children": [
       "IPY_MODEL_2fdbae36e10b4a58a3e24ca6e14ced1c",
       "IPY_MODEL_e75eb926fef64c39a50d244e6462343a"
      ],
      "layout": "IPY_MODEL_e1d193763e3f471abf4ae9750b785dc5"
     }
    },
    "c46d74dc5682426db04e9b8036f7eb11": {
     "model_module": "@jupyter-widgets/base",
     "model_name": "LayoutModel",
     "state": {
      "_model_module": "@jupyter-widgets/base",
      "_model_module_version": "1.2.0",
      "_model_name": "LayoutModel",
      "_view_count": null,
      "_view_module": "@jupyter-widgets/base",
      "_view_module_version": "1.2.0",
      "_view_name": "LayoutView",
      "align_content": null,
      "align_items": null,
      "align_self": null,
      "border": null,
      "bottom": null,
      "display": null,
      "flex": null,
      "flex_flow": null,
      "grid_area": null,
      "grid_auto_columns": null,
      "grid_auto_flow": null,
      "grid_auto_rows": null,
      "grid_column": null,
      "grid_gap": null,
      "grid_row": null,
      "grid_template_areas": null,
      "grid_template_columns": null,
      "grid_template_rows": null,
      "height": null,
      "justify_content": null,
      "justify_items": null,
      "left": null,
      "margin": null,
      "max_height": null,
      "max_width": null,
      "min_height": null,
      "min_width": null,
      "object_fit": null,
      "object_position": null,
      "order": null,
      "overflow": null,
      "overflow_x": null,
      "overflow_y": null,
      "padding": null,
      "right": null,
      "top": null,
      "visibility": null,
      "width": null
     }
    },
    "cd86c9ad9ea44805ab569e575186d986": {
     "model_module": "@jupyter-widgets/controls",
     "model_name": "HBoxModel",
     "state": {
      "_dom_classes": [],
      "_model_module": "@jupyter-widgets/controls",
      "_model_module_version": "1.5.0",
      "_model_name": "HBoxModel",
      "_view_count": null,
      "_view_module": "@jupyter-widgets/controls",
      "_view_module_version": "1.5.0",
      "_view_name": "HBoxView",
      "box_style": "",
      "children": [
       "IPY_MODEL_87d8680fc619400e9b870469fdad0bce",
       "IPY_MODEL_b072db47ecd449c88656603e761cc167"
      ],
      "layout": "IPY_MODEL_22a96055e1644b4c8ea345de7bdebce5"
     }
    },
    "d108cd830bb748068fcab4e67de2748c": {
     "model_module": "@jupyter-widgets/controls",
     "model_name": "HBoxModel",
     "state": {
      "_dom_classes": [],
      "_model_module": "@jupyter-widgets/controls",
      "_model_module_version": "1.5.0",
      "_model_name": "HBoxModel",
      "_view_count": null,
      "_view_module": "@jupyter-widgets/controls",
      "_view_module_version": "1.5.0",
      "_view_name": "HBoxView",
      "box_style": "",
      "children": [
       "IPY_MODEL_0ada9f4f43ee460692fd18ef56e30ef6",
       "IPY_MODEL_59fcc6bfcb6742f58b673d2f97ee510a"
      ],
      "layout": "IPY_MODEL_f967f3a915b948969a0e8d1631173c31"
     }
    },
    "d2220c02944f40d1827c44f1ba9fefe5": {
     "model_module": "@jupyter-widgets/base",
     "model_name": "LayoutModel",
     "state": {
      "_model_module": "@jupyter-widgets/base",
      "_model_module_version": "1.2.0",
      "_model_name": "LayoutModel",
      "_view_count": null,
      "_view_module": "@jupyter-widgets/base",
      "_view_module_version": "1.2.0",
      "_view_name": "LayoutView",
      "align_content": null,
      "align_items": null,
      "align_self": null,
      "border": null,
      "bottom": null,
      "display": null,
      "flex": null,
      "flex_flow": null,
      "grid_area": null,
      "grid_auto_columns": null,
      "grid_auto_flow": null,
      "grid_auto_rows": null,
      "grid_column": null,
      "grid_gap": null,
      "grid_row": null,
      "grid_template_areas": null,
      "grid_template_columns": null,
      "grid_template_rows": null,
      "height": null,
      "justify_content": null,
      "justify_items": null,
      "left": null,
      "margin": null,
      "max_height": null,
      "max_width": null,
      "min_height": null,
      "min_width": null,
      "object_fit": null,
      "object_position": null,
      "order": null,
      "overflow": null,
      "overflow_x": null,
      "overflow_y": null,
      "padding": null,
      "right": null,
      "top": null,
      "visibility": null,
      "width": null
     }
    },
    "deda351369aa4519b29aba9f380ccd60": {
     "model_module": "@jupyter-widgets/controls",
     "model_name": "IntProgressModel",
     "state": {
      "_dom_classes": [],
      "_model_module": "@jupyter-widgets/controls",
      "_model_module_version": "1.5.0",
      "_model_name": "IntProgressModel",
      "_view_count": null,
      "_view_module": "@jupyter-widgets/controls",
      "_view_module_version": "1.5.0",
      "_view_name": "ProgressView",
      "bar_style": "success",
      "description": "Pandas Apply: 100%",
      "description_tooltip": null,
      "layout": "IPY_MODEL_d2220c02944f40d1827c44f1ba9fefe5",
      "max": 6,
      "min": 0,
      "orientation": "horizontal",
      "style": "IPY_MODEL_9d362990c99443839d1ee4a3006937d1",
      "value": 6
     }
    },
    "e1d193763e3f471abf4ae9750b785dc5": {
     "model_module": "@jupyter-widgets/base",
     "model_name": "LayoutModel",
     "state": {
      "_model_module": "@jupyter-widgets/base",
      "_model_module_version": "1.2.0",
      "_model_name": "LayoutModel",
      "_view_count": null,
      "_view_module": "@jupyter-widgets/base",
      "_view_module_version": "1.2.0",
      "_view_name": "LayoutView",
      "align_content": null,
      "align_items": null,
      "align_self": null,
      "border": null,
      "bottom": null,
      "display": null,
      "flex": null,
      "flex_flow": null,
      "grid_area": null,
      "grid_auto_columns": null,
      "grid_auto_flow": null,
      "grid_auto_rows": null,
      "grid_column": null,
      "grid_gap": null,
      "grid_row": null,
      "grid_template_areas": null,
      "grid_template_columns": null,
      "grid_template_rows": null,
      "height": null,
      "justify_content": null,
      "justify_items": null,
      "left": null,
      "margin": null,
      "max_height": null,
      "max_width": null,
      "min_height": null,
      "min_width": null,
      "object_fit": null,
      "object_position": null,
      "order": null,
      "overflow": null,
      "overflow_x": null,
      "overflow_y": null,
      "padding": null,
      "right": null,
      "top": null,
      "visibility": null,
      "width": null
     }
    },
    "e2e89e120ea5421bb1d561d98459cd20": {
     "model_module": "@jupyter-widgets/base",
     "model_name": "LayoutModel",
     "state": {
      "_model_module": "@jupyter-widgets/base",
      "_model_module_version": "1.2.0",
      "_model_name": "LayoutModel",
      "_view_count": null,
      "_view_module": "@jupyter-widgets/base",
      "_view_module_version": "1.2.0",
      "_view_name": "LayoutView",
      "align_content": null,
      "align_items": null,
      "align_self": null,
      "border": null,
      "bottom": null,
      "display": null,
      "flex": null,
      "flex_flow": null,
      "grid_area": null,
      "grid_auto_columns": null,
      "grid_auto_flow": null,
      "grid_auto_rows": null,
      "grid_column": null,
      "grid_gap": null,
      "grid_row": null,
      "grid_template_areas": null,
      "grid_template_columns": null,
      "grid_template_rows": null,
      "height": null,
      "justify_content": null,
      "justify_items": null,
      "left": null,
      "margin": null,
      "max_height": null,
      "max_width": null,
      "min_height": null,
      "min_width": null,
      "object_fit": null,
      "object_position": null,
      "order": null,
      "overflow": null,
      "overflow_x": null,
      "overflow_y": null,
      "padding": null,
      "right": null,
      "top": null,
      "visibility": null,
      "width": null
     }
    },
    "e75eb926fef64c39a50d244e6462343a": {
     "model_module": "@jupyter-widgets/controls",
     "model_name": "HTMLModel",
     "state": {
      "_dom_classes": [],
      "_model_module": "@jupyter-widgets/controls",
      "_model_module_version": "1.5.0",
      "_model_name": "HTMLModel",
      "_view_count": null,
      "_view_module": "@jupyter-widgets/controls",
      "_view_module_version": "1.5.0",
      "_view_name": "HTMLView",
      "description": "",
      "description_tooltip": null,
      "layout": "IPY_MODEL_f9931bc27c29481ca212b8671063352a",
      "placeholder": "​",
      "style": "IPY_MODEL_4ebc61d3fce54d90acb935e331b4009b",
      "value": " 506/506 [05:23&lt;00:00,  1.56it/s]"
     }
    },
    "e77ee7ccf7ea4b9e90f6f359297ec877": {
     "model_module": "@jupyter-widgets/base",
     "model_name": "LayoutModel",
     "state": {
      "_model_module": "@jupyter-widgets/base",
      "_model_module_version": "1.2.0",
      "_model_name": "LayoutModel",
      "_view_count": null,
      "_view_module": "@jupyter-widgets/base",
      "_view_module_version": "1.2.0",
      "_view_name": "LayoutView",
      "align_content": null,
      "align_items": null,
      "align_self": null,
      "border": null,
      "bottom": null,
      "display": null,
      "flex": null,
      "flex_flow": null,
      "grid_area": null,
      "grid_auto_columns": null,
      "grid_auto_flow": null,
      "grid_auto_rows": null,
      "grid_column": null,
      "grid_gap": null,
      "grid_row": null,
      "grid_template_areas": null,
      "grid_template_columns": null,
      "grid_template_rows": null,
      "height": null,
      "justify_content": null,
      "justify_items": null,
      "left": null,
      "margin": null,
      "max_height": null,
      "max_width": null,
      "min_height": null,
      "min_width": null,
      "object_fit": null,
      "object_position": null,
      "order": null,
      "overflow": null,
      "overflow_x": null,
      "overflow_y": null,
      "padding": null,
      "right": null,
      "top": null,
      "visibility": null,
      "width": null
     }
    },
    "ea08b94be6c247f6aca18df3d7c669fe": {
     "model_module": "@jupyter-widgets/controls",
     "model_name": "ProgressStyleModel",
     "state": {
      "_model_module": "@jupyter-widgets/controls",
      "_model_module_version": "1.5.0",
      "_model_name": "ProgressStyleModel",
      "_view_count": null,
      "_view_module": "@jupyter-widgets/base",
      "_view_module_version": "1.2.0",
      "_view_name": "StyleView",
      "bar_color": null,
      "description_width": "initial"
     }
    },
    "eebf72e4d155478f846b2b49e33434f2": {
     "model_module": "@jupyter-widgets/controls",
     "model_name": "IntProgressModel",
     "state": {
      "_dom_classes": [],
      "_model_module": "@jupyter-widgets/controls",
      "_model_module_version": "1.5.0",
      "_model_name": "IntProgressModel",
      "_view_count": null,
      "_view_module": "@jupyter-widgets/controls",
      "_view_module_version": "1.5.0",
      "_view_name": "ProgressView",
      "bar_style": "success",
      "description": "Pandas Apply: 100%",
      "description_tooltip": null,
      "layout": "IPY_MODEL_e77ee7ccf7ea4b9e90f6f359297ec877",
      "max": 506,
      "min": 0,
      "orientation": "horizontal",
      "style": "IPY_MODEL_9feae728f2784d37b733991be9f1e33c",
      "value": 506
     }
    },
    "f6a0eb7cad9649d6a91d89bb3bdcc668": {
     "model_module": "@jupyter-widgets/controls",
     "model_name": "DescriptionStyleModel",
     "state": {
      "_model_module": "@jupyter-widgets/controls",
      "_model_module_version": "1.5.0",
      "_model_name": "DescriptionStyleModel",
      "_view_count": null,
      "_view_module": "@jupyter-widgets/base",
      "_view_module_version": "1.2.0",
      "_view_name": "StyleView",
      "description_width": ""
     }
    },
    "f967f3a915b948969a0e8d1631173c31": {
     "model_module": "@jupyter-widgets/base",
     "model_name": "LayoutModel",
     "state": {
      "_model_module": "@jupyter-widgets/base",
      "_model_module_version": "1.2.0",
      "_model_name": "LayoutModel",
      "_view_count": null,
      "_view_module": "@jupyter-widgets/base",
      "_view_module_version": "1.2.0",
      "_view_name": "LayoutView",
      "align_content": null,
      "align_items": null,
      "align_self": null,
      "border": null,
      "bottom": null,
      "display": null,
      "flex": null,
      "flex_flow": null,
      "grid_area": null,
      "grid_auto_columns": null,
      "grid_auto_flow": null,
      "grid_auto_rows": null,
      "grid_column": null,
      "grid_gap": null,
      "grid_row": null,
      "grid_template_areas": null,
      "grid_template_columns": null,
      "grid_template_rows": null,
      "height": null,
      "justify_content": null,
      "justify_items": null,
      "left": null,
      "margin": null,
      "max_height": null,
      "max_width": null,
      "min_height": null,
      "min_width": null,
      "object_fit": null,
      "object_position": null,
      "order": null,
      "overflow": null,
      "overflow_x": null,
      "overflow_y": null,
      "padding": null,
      "right": null,
      "top": null,
      "visibility": null,
      "width": null
     }
    },
    "f9931bc27c29481ca212b8671063352a": {
     "model_module": "@jupyter-widgets/base",
     "model_name": "LayoutModel",
     "state": {
      "_model_module": "@jupyter-widgets/base",
      "_model_module_version": "1.2.0",
      "_model_name": "LayoutModel",
      "_view_count": null,
      "_view_module": "@jupyter-widgets/base",
      "_view_module_version": "1.2.0",
      "_view_name": "LayoutView",
      "align_content": null,
      "align_items": null,
      "align_self": null,
      "border": null,
      "bottom": null,
      "display": null,
      "flex": null,
      "flex_flow": null,
      "grid_area": null,
      "grid_auto_columns": null,
      "grid_auto_flow": null,
      "grid_auto_rows": null,
      "grid_column": null,
      "grid_gap": null,
      "grid_row": null,
      "grid_template_areas": null,
      "grid_template_columns": null,
      "grid_template_rows": null,
      "height": null,
      "justify_content": null,
      "justify_items": null,
      "left": null,
      "margin": null,
      "max_height": null,
      "max_width": null,
      "min_height": null,
      "min_width": null,
      "object_fit": null,
      "object_position": null,
      "order": null,
      "overflow": null,
      "overflow_x": null,
      "overflow_y": null,
      "padding": null,
      "right": null,
      "top": null,
      "visibility": null,
      "width": null
     }
    },
    "ffc8cbe196b7441091bbe0bb0a29a258": {
     "model_module": "@jupyter-widgets/controls",
     "model_name": "DescriptionStyleModel",
     "state": {
      "_model_module": "@jupyter-widgets/controls",
      "_model_module_version": "1.5.0",
      "_model_name": "DescriptionStyleModel",
      "_view_count": null,
      "_view_module": "@jupyter-widgets/base",
      "_view_module_version": "1.2.0",
      "_view_name": "StyleView",
      "description_width": ""
     }
    }
   }
  }
 },
 "nbformat": 4,
 "nbformat_minor": 1
}
