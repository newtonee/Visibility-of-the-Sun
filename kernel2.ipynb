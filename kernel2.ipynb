{
 "cells": [
  {
   "cell_type": "code",
   "execution_count": 1,
   "id": "99d73b9a",
   "metadata": {},
   "outputs": [],
   "source": [
    "from ClassImagePlotter import image_plotter\n",
    "from ClassTLEArchiveParser import TLEArchiveParser\n",
    "from skyfield.api import Topos, load\n",
    "from datetime import timezone, timedelta, datetime\n"
   ]
  },
  {
   "cell_type": "code",
   "execution_count": 2,
   "id": "a7980ae5",
   "metadata": {},
   "outputs": [
    {
     "name": "stdout",
     "output_type": "stream",
     "text": [
      "[2022, 4, 11, 0, 0, 0] done\n"
     ]
    }
   ],
   "source": [
    "tle_parser = TLEArchiveParser(\"tianhe_tle_archive_parsed\", \"Tianhe_TLE.txt\")\n",
    "tles = tle_parser()\n",
    "\n",
    "planets = load('de421.bsp')\n",
    "sun = planets['sun']\n",
    "earth = planets['earth']\n",
    "\n",
    "ip = image_plotter(tles, sun, earth, dt=1, T=[0, 0, 1, 0], h=[5, 50], start_date=[2021, 6, 12, 0, 0, 0], sat_subpoint=True, full_sun=False)\n",
    "# ip()\n",
    "ip.calculate_and_save_every_day(start=datetime(year=2022, month=3, day=13), total_days=30)"
   ]
  },
  {
   "cell_type": "code",
   "execution_count": null,
   "id": "b1ccce49",
   "metadata": {},
   "outputs": [],
   "source": []
  }
 ],
 "metadata": {
  "kernelspec": {
   "display_name": "Python 3 (ipykernel)",
   "language": "python",
   "name": "python3"
  },
  "language_info": {
   "codemirror_mode": {
    "name": "ipython",
    "version": 3
   },
   "file_extension": ".py",
   "mimetype": "text/x-python",
   "name": "python",
   "nbconvert_exporter": "python",
   "pygments_lexer": "ipython3",
   "version": "3.8.8"
  }
 },
 "nbformat": 4,
 "nbformat_minor": 5
}
